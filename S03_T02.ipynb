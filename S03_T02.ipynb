{
 "cells": [
  {
   "cell_type": "markdown",
   "metadata": {},
   "source": [
    "# Nivell 1\n",
    "## - Exercici 1\n",
    "\n",
    "Realitza la pràctica del notebook a GitHub ***\"03 EXAMINING DATA\"*** amb seaborn i el dataset \"tips\".\n"
   ]
  },
  {
   "cell_type": "code",
   "execution_count": 25,
   "metadata": {},
   "outputs": [
    {
     "data": {
      "text/html": [
       "<div>\n",
       "<style scoped>\n",
       "    .dataframe tbody tr th:only-of-type {\n",
       "        vertical-align: middle;\n",
       "    }\n",
       "\n",
       "    .dataframe tbody tr th {\n",
       "        vertical-align: top;\n",
       "    }\n",
       "\n",
       "    .dataframe thead th {\n",
       "        text-align: right;\n",
       "    }\n",
       "</style>\n",
       "<table border=\"1\" class=\"dataframe\">\n",
       "  <thead>\n",
       "    <tr style=\"text-align: right;\">\n",
       "      <th></th>\n",
       "      <th>total_bill</th>\n",
       "      <th>tip</th>\n",
       "      <th>sex</th>\n",
       "      <th>smoker</th>\n",
       "      <th>day</th>\n",
       "      <th>time</th>\n",
       "      <th>size</th>\n",
       "    </tr>\n",
       "  </thead>\n",
       "  <tbody>\n",
       "    <tr>\n",
       "      <th>0</th>\n",
       "      <td>16.99</td>\n",
       "      <td>1.01</td>\n",
       "      <td>Female</td>\n",
       "      <td>No</td>\n",
       "      <td>Sun</td>\n",
       "      <td>Dinner</td>\n",
       "      <td>2</td>\n",
       "    </tr>\n",
       "    <tr>\n",
       "      <th>1</th>\n",
       "      <td>10.34</td>\n",
       "      <td>1.66</td>\n",
       "      <td>Male</td>\n",
       "      <td>No</td>\n",
       "      <td>Sun</td>\n",
       "      <td>Dinner</td>\n",
       "      <td>3</td>\n",
       "    </tr>\n",
       "    <tr>\n",
       "      <th>2</th>\n",
       "      <td>21.01</td>\n",
       "      <td>3.50</td>\n",
       "      <td>Male</td>\n",
       "      <td>No</td>\n",
       "      <td>Sun</td>\n",
       "      <td>Dinner</td>\n",
       "      <td>3</td>\n",
       "    </tr>\n",
       "    <tr>\n",
       "      <th>3</th>\n",
       "      <td>23.68</td>\n",
       "      <td>3.31</td>\n",
       "      <td>Male</td>\n",
       "      <td>No</td>\n",
       "      <td>Sun</td>\n",
       "      <td>Dinner</td>\n",
       "      <td>2</td>\n",
       "    </tr>\n",
       "    <tr>\n",
       "      <th>4</th>\n",
       "      <td>24.59</td>\n",
       "      <td>3.61</td>\n",
       "      <td>Female</td>\n",
       "      <td>No</td>\n",
       "      <td>Sun</td>\n",
       "      <td>Dinner</td>\n",
       "      <td>4</td>\n",
       "    </tr>\n",
       "  </tbody>\n",
       "</table>\n",
       "</div>"
      ],
      "text/plain": [
       "   total_bill   tip     sex smoker  day    time  size\n",
       "0       16.99  1.01  Female     No  Sun  Dinner     2\n",
       "1       10.34  1.66    Male     No  Sun  Dinner     3\n",
       "2       21.01  3.50    Male     No  Sun  Dinner     3\n",
       "3       23.68  3.31    Male     No  Sun  Dinner     2\n",
       "4       24.59  3.61  Female     No  Sun  Dinner     4"
      ]
     },
     "execution_count": 25,
     "metadata": {},
     "output_type": "execute_result"
    }
   ],
   "source": [
    "import numpy as np\n",
    "import pandas as pd\n",
    "import matplotlib.pyplot as plt\n",
    "import seaborn as sns\n",
    "import warnings\n",
    "\n",
    "tips = pd.read_csv('tips.csv', sep = ',', encoding = 'utf-8')\n",
    "tips.head()"
   ]
  },
  {
   "cell_type": "code",
   "execution_count": 5,
   "metadata": {},
   "outputs": [
    {
     "data": {
      "text/plain": [
       "(244, 7)"
      ]
     },
     "execution_count": 5,
     "metadata": {},
     "output_type": "execute_result"
    }
   ],
   "source": [
    "tips.shape"
   ]
  },
  {
   "cell_type": "code",
   "execution_count": 6,
   "metadata": {},
   "outputs": [
    {
     "data": {
      "text/plain": [
       "2"
      ]
     },
     "execution_count": 6,
     "metadata": {},
     "output_type": "execute_result"
    }
   ],
   "source": [
    "tips.ndim"
   ]
  },
  {
   "cell_type": "code",
   "execution_count": 7,
   "metadata": {},
   "outputs": [
    {
     "data": {
      "text/plain": [
       "Index(['total_bill', 'tip', 'sex', 'smoker', 'day', 'time', 'size'], dtype='object')"
      ]
     },
     "execution_count": 7,
     "metadata": {},
     "output_type": "execute_result"
    }
   ],
   "source": [
    "tips.columns"
   ]
  },
  {
   "cell_type": "code",
   "execution_count": 8,
   "metadata": {},
   "outputs": [
    {
     "data": {
      "text/plain": [
       "total_bill    float64\n",
       "tip           float64\n",
       "sex            object\n",
       "smoker         object\n",
       "day            object\n",
       "time           object\n",
       "size            int64\n",
       "dtype: object"
      ]
     },
     "execution_count": 8,
     "metadata": {},
     "output_type": "execute_result"
    }
   ],
   "source": [
    "tips.dtypes"
   ]
  },
  {
   "cell_type": "code",
   "execution_count": 3,
   "metadata": {},
   "outputs": [
    {
     "data": {
      "text/html": [
       "<div>\n",
       "<table border=\"1\" class=\"dataframe\">\n",
       "  <thead>\n",
       "    <tr style=\"text-align: right;\">\n",
       "      <th></th>\n",
       "      <th>total_bill</th>\n",
       "      <th>tip</th>\n",
       "      <th>sex</th>\n",
       "      <th>smoker</th>\n",
       "      <th>day</th>\n",
       "      <th>time</th>\n",
       "      <th>size</th>\n",
       "      <th>tip_pct</th>\n",
       "    </tr>\n",
       "  </thead>\n",
       "  <tbody>\n",
       "    <tr>\n",
       "      <th>0</th>\n",
       "      <td>16.99</td>\n",
       "      <td>1.01</td>\n",
       "      <td>Female</td>\n",
       "      <td>No</td>\n",
       "      <td>Sun</td>\n",
       "      <td>Dinner</td>\n",
       "      <td>2</td>\n",
       "      <td>6.32</td>\n",
       "    </tr>\n",
       "    <tr>\n",
       "      <th>1</th>\n",
       "      <td>10.34</td>\n",
       "      <td>1.66</td>\n",
       "      <td>Male</td>\n",
       "      <td>No</td>\n",
       "      <td>Sun</td>\n",
       "      <td>Dinner</td>\n",
       "      <td>3</td>\n",
       "      <td>19.12</td>\n",
       "    </tr>\n",
       "    <tr>\n",
       "      <th>2</th>\n",
       "      <td>21.01</td>\n",
       "      <td>3.50</td>\n",
       "      <td>Male</td>\n",
       "      <td>No</td>\n",
       "      <td>Sun</td>\n",
       "      <td>Dinner</td>\n",
       "      <td>3</td>\n",
       "      <td>19.99</td>\n",
       "    </tr>\n",
       "    <tr>\n",
       "      <th>3</th>\n",
       "      <td>23.68</td>\n",
       "      <td>3.31</td>\n",
       "      <td>Male</td>\n",
       "      <td>No</td>\n",
       "      <td>Sun</td>\n",
       "      <td>Dinner</td>\n",
       "      <td>2</td>\n",
       "      <td>16.25</td>\n",
       "    </tr>\n",
       "    <tr>\n",
       "      <th>4</th>\n",
       "      <td>24.59</td>\n",
       "      <td>3.61</td>\n",
       "      <td>Female</td>\n",
       "      <td>No</td>\n",
       "      <td>Sun</td>\n",
       "      <td>Dinner</td>\n",
       "      <td>4</td>\n",
       "      <td>17.21</td>\n",
       "    </tr>\n",
       "  </tbody>\n",
       "</table>\n",
       "</div>"
      ],
      "text/plain": [
       "   total_bill   tip     sex smoker  day    time  size  tip_pct\n",
       "0       16.99  1.01  Female     No  Sun  Dinner     2     6.32\n",
       "1       10.34  1.66    Male     No  Sun  Dinner     3    19.12\n",
       "2       21.01  3.50    Male     No  Sun  Dinner     3    19.99\n",
       "3       23.68  3.31    Male     No  Sun  Dinner     2    16.25\n",
       "4       24.59  3.61  Female     No  Sun  Dinner     4    17.21"
      ]
     },
     "execution_count": 3,
     "metadata": {},
     "output_type": "execute_result"
    }
   ],
   "source": [
    "tips['tip_pct'] = round((tips['tip'] / (tips['total_bill'] - tips['tip']))*100, 2)\n",
    "tips.head()"
   ]
  },
  {
   "cell_type": "code",
   "execution_count": null,
   "metadata": {},
   "outputs": [],
   "source": [
    "sns.barplot(x='tip_pct', y='day', data=tips, orient=\"h\")\n",
    "plt.show()"
   ]
  },
  {
   "cell_type": "code",
   "execution_count": 11,
   "metadata": {},
   "outputs": [
    {
     "data": {
      "image/png": "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\n",
      "text/plain": [
       "<Figure size 432x288 with 1 Axes>"
      ]
     },
     "metadata": {
      "needs_background": "light"
     },
     "output_type": "display_data"
    }
   ],
   "source": [
    "sns.barplot(x='tip_pct', y='day', hue='time', data=tips, orient='h')\n",
    "plt.show()\n",
    "sns.set(style=\"darkgrid\")"
   ]
  },
  {
   "cell_type": "code",
   "execution_count": null,
   "metadata": {},
   "outputs": [],
   "source": [
    "tips.describe()"
   ]
  },
  {
   "cell_type": "code",
   "execution_count": 13,
   "metadata": {},
   "outputs": [
    {
     "data": {
      "text/html": [
       "<div>\n",
       "<style scoped>\n",
       "    .dataframe tbody tr th:only-of-type {\n",
       "        vertical-align: middle;\n",
       "    }\n",
       "\n",
       "    .dataframe tbody tr th {\n",
       "        vertical-align: top;\n",
       "    }\n",
       "\n",
       "    .dataframe thead th {\n",
       "        text-align: right;\n",
       "    }\n",
       "</style>\n",
       "<table border=\"1\" class=\"dataframe\">\n",
       "  <thead>\n",
       "    <tr style=\"text-align: right;\">\n",
       "      <th></th>\n",
       "      <th>total_bill</th>\n",
       "      <th>tip</th>\n",
       "      <th>sex</th>\n",
       "      <th>smoker</th>\n",
       "      <th>day</th>\n",
       "      <th>time</th>\n",
       "      <th>size</th>\n",
       "      <th>tip_pct</th>\n",
       "    </tr>\n",
       "  </thead>\n",
       "  <tbody>\n",
       "    <tr>\n",
       "      <th>count</th>\n",
       "      <td>244.000</td>\n",
       "      <td>244.000</td>\n",
       "      <td>244</td>\n",
       "      <td>244</td>\n",
       "      <td>244</td>\n",
       "      <td>244</td>\n",
       "      <td>244.000</td>\n",
       "      <td>244.000</td>\n",
       "    </tr>\n",
       "    <tr>\n",
       "      <th>unique</th>\n",
       "      <td>NaN</td>\n",
       "      <td>NaN</td>\n",
       "      <td>2</td>\n",
       "      <td>2</td>\n",
       "      <td>4</td>\n",
       "      <td>2</td>\n",
       "      <td>NaN</td>\n",
       "      <td>NaN</td>\n",
       "    </tr>\n",
       "    <tr>\n",
       "      <th>top</th>\n",
       "      <td>NaN</td>\n",
       "      <td>NaN</td>\n",
       "      <td>Male</td>\n",
       "      <td>No</td>\n",
       "      <td>Sat</td>\n",
       "      <td>Dinner</td>\n",
       "      <td>NaN</td>\n",
       "      <td>NaN</td>\n",
       "    </tr>\n",
       "    <tr>\n",
       "      <th>freq</th>\n",
       "      <td>NaN</td>\n",
       "      <td>NaN</td>\n",
       "      <td>157</td>\n",
       "      <td>151</td>\n",
       "      <td>87</td>\n",
       "      <td>176</td>\n",
       "      <td>NaN</td>\n",
       "      <td>NaN</td>\n",
       "    </tr>\n",
       "    <tr>\n",
       "      <th>mean</th>\n",
       "      <td>19.786</td>\n",
       "      <td>2.998</td>\n",
       "      <td>NaN</td>\n",
       "      <td>NaN</td>\n",
       "      <td>NaN</td>\n",
       "      <td>NaN</td>\n",
       "      <td>2.570</td>\n",
       "      <td>20.212</td>\n",
       "    </tr>\n",
       "    <tr>\n",
       "      <th>std</th>\n",
       "      <td>8.902</td>\n",
       "      <td>1.384</td>\n",
       "      <td>NaN</td>\n",
       "      <td>NaN</td>\n",
       "      <td>NaN</td>\n",
       "      <td>NaN</td>\n",
       "      <td>0.951</td>\n",
       "      <td>16.339</td>\n",
       "    </tr>\n",
       "    <tr>\n",
       "      <th>min</th>\n",
       "      <td>3.070</td>\n",
       "      <td>1.000</td>\n",
       "      <td>NaN</td>\n",
       "      <td>NaN</td>\n",
       "      <td>NaN</td>\n",
       "      <td>NaN</td>\n",
       "      <td>1.000</td>\n",
       "      <td>3.700</td>\n",
       "    </tr>\n",
       "    <tr>\n",
       "      <th>25%</th>\n",
       "      <td>13.348</td>\n",
       "      <td>2.000</td>\n",
       "      <td>NaN</td>\n",
       "      <td>NaN</td>\n",
       "      <td>NaN</td>\n",
       "      <td>NaN</td>\n",
       "      <td>2.000</td>\n",
       "      <td>14.830</td>\n",
       "    </tr>\n",
       "    <tr>\n",
       "      <th>50%</th>\n",
       "      <td>17.795</td>\n",
       "      <td>2.900</td>\n",
       "      <td>NaN</td>\n",
       "      <td>NaN</td>\n",
       "      <td>NaN</td>\n",
       "      <td>NaN</td>\n",
       "      <td>2.000</td>\n",
       "      <td>18.310</td>\n",
       "    </tr>\n",
       "    <tr>\n",
       "      <th>75%</th>\n",
       "      <td>24.127</td>\n",
       "      <td>3.562</td>\n",
       "      <td>NaN</td>\n",
       "      <td>NaN</td>\n",
       "      <td>NaN</td>\n",
       "      <td>NaN</td>\n",
       "      <td>3.000</td>\n",
       "      <td>23.682</td>\n",
       "    </tr>\n",
       "    <tr>\n",
       "      <th>max</th>\n",
       "      <td>50.810</td>\n",
       "      <td>10.000</td>\n",
       "      <td>NaN</td>\n",
       "      <td>NaN</td>\n",
       "      <td>NaN</td>\n",
       "      <td>NaN</td>\n",
       "      <td>6.000</td>\n",
       "      <td>245.240</td>\n",
       "    </tr>\n",
       "  </tbody>\n",
       "</table>\n",
       "</div>"
      ],
      "text/plain": [
       "        total_bill      tip   sex smoker  day    time     size  tip_pct\n",
       "count      244.000  244.000   244    244  244     244  244.000  244.000\n",
       "unique         NaN      NaN     2      2    4       2      NaN      NaN\n",
       "top            NaN      NaN  Male     No  Sat  Dinner      NaN      NaN\n",
       "freq           NaN      NaN   157    151   87     176      NaN      NaN\n",
       "mean        19.786    2.998   NaN    NaN  NaN     NaN    2.570   20.212\n",
       "std          8.902    1.384   NaN    NaN  NaN     NaN    0.951   16.339\n",
       "min          3.070    1.000   NaN    NaN  NaN     NaN    1.000    3.700\n",
       "25%         13.348    2.000   NaN    NaN  NaN     NaN    2.000   14.830\n",
       "50%         17.795    2.900   NaN    NaN  NaN     NaN    2.000   18.310\n",
       "75%         24.127    3.562   NaN    NaN  NaN     NaN    3.000   23.682\n",
       "max         50.810   10.000   NaN    NaN  NaN     NaN    6.000  245.240"
      ]
     },
     "execution_count": 13,
     "metadata": {},
     "output_type": "execute_result"
    }
   ],
   "source": [
    "round(tips.describe(include='all'), 3)"
   ]
  },
  {
   "cell_type": "code",
   "execution_count": 14,
   "metadata": {},
   "outputs": [
    {
     "data": {
      "text/plain": [
       "total_bill    0.0\n",
       "tip           0.0\n",
       "sex           0.0\n",
       "smoker        0.0\n",
       "day           0.0\n",
       "time          0.0\n",
       "size          0.0\n",
       "tip_pct       0.0\n",
       "dtype: float64"
      ]
     },
     "execution_count": 14,
     "metadata": {},
     "output_type": "execute_result"
    }
   ],
   "source": [
    "tips.isnull().sum()/len(tips)"
   ]
  },
  {
   "cell_type": "code",
   "execution_count": 15,
   "metadata": {},
   "outputs": [
    {
     "data": {
      "text/plain": [
       "count    244.000\n",
       "mean       2.998\n",
       "std        1.384\n",
       "min        1.000\n",
       "25%        2.000\n",
       "50%        2.900\n",
       "75%        3.562\n",
       "max       10.000\n",
       "Name: tip, dtype: float64"
      ]
     },
     "execution_count": 15,
     "metadata": {},
     "output_type": "execute_result"
    }
   ],
   "source": [
    "round((tips['tip']).describe(), 3)"
   ]
  },
  {
   "cell_type": "code",
   "execution_count": 19,
   "metadata": {},
   "outputs": [
    {
     "data": {
      "text/plain": [
       "2.9"
      ]
     },
     "execution_count": 19,
     "metadata": {},
     "output_type": "execute_result"
    }
   ],
   "source": [
    "(tips['tip']).median()"
   ]
  },
  {
   "cell_type": "code",
   "execution_count": 17,
   "metadata": {},
   "outputs": [
    {
     "data": {
      "image/png": "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\n",
      "text/plain": [
       "<Figure size 432x288 with 1 Axes>"
      ]
     },
     "metadata": {},
     "output_type": "display_data"
    }
   ],
   "source": [
    "sns.set(style=\"whitegrid\")\n",
    "ax = sns.boxplot(x = tips['tip'], color='lightblue', fliersize=5, orient='v', linewidth=1, width=0.3)"
   ]
  },
  {
   "cell_type": "code",
   "execution_count": 18,
   "metadata": {
    "scrolled": true
   },
   "outputs": [
    {
     "data": {
      "image/png": "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\n",
      "text/plain": [
       "<Figure size 432x288 with 1 Axes>"
      ]
     },
     "metadata": {},
     "output_type": "display_data"
    }
   ],
   "source": [
    "ax = sns.boxplot(y=\"tip\", data=tips,  color='lightblue', fliersize=5,  orient='v', linewidth=1 , width=0.3)\n",
    "ax = sns.stripplot(y=tips[\"tip\"], orient='v', color='darkblue', alpha= 0.5)"
   ]
  },
  {
   "cell_type": "markdown",
   "metadata": {},
   "source": [
    "<span style=color:blue><font size=4><b><u>Una Variable</u></b>: 1 Numérica = 'tip_pct'</font></span>"
   ]
  },
  {
   "cell_type": "code",
   "execution_count": 20,
   "metadata": {},
   "outputs": [
    {
     "data": {
      "text/plain": [
       "total_bill    float64\n",
       "tip           float64\n",
       "sex            object\n",
       "smoker         object\n",
       "day            object\n",
       "time           object\n",
       "size            int64\n",
       "tip_pct       float64\n",
       "dtype: object"
      ]
     },
     "execution_count": 20,
     "metadata": {},
     "output_type": "execute_result"
    }
   ],
   "source": [
    "tips.dtypes"
   ]
  },
  {
   "cell_type": "code",
   "execution_count": 21,
   "metadata": {},
   "outputs": [
    {
     "data": {
      "image/png": "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\n",
      "text/plain": [
       "<Figure size 432x288 with 1 Axes>"
      ]
     },
     "metadata": {},
     "output_type": "display_data"
    }
   ],
   "source": [
    "sns.boxplot(y=\"tip_pct\", data=tips[tips.tip < 10],  color='lightblue', fliersize=5,  orient='v', linewidth=1 , width=0.3);"
   ]
  },
  {
   "cell_type": "markdown",
   "metadata": {},
   "source": [
    "<span style=color:blue><font size=4><b><u>Dos Variables</u></b>: 1 Categórica = 'day', 1 Numérica = 'tip_pct'</font></span>"
   ]
  },
  {
   "cell_type": "code",
   "execution_count": 22,
   "metadata": {},
   "outputs": [
    {
     "data": {
      "image/png": "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\n",
      "text/plain": [
       "<Figure size 360x360 with 1 Axes>"
      ]
     },
     "metadata": {},
     "output_type": "display_data"
    }
   ],
   "source": [
    "ax = sns.catplot(x='day', y='tip_pct', kind='box',\n",
    "                 data=tips[tips.tip_pct < 245]);"
   ]
  },
  {
   "cell_type": "code",
   "execution_count": 23,
   "metadata": {},
   "outputs": [
    {
     "data": {
      "image/png": "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\n",
      "text/plain": [
       "<Figure size 360x360 with 1 Axes>"
      ]
     },
     "metadata": {},
     "output_type": "display_data"
    }
   ],
   "source": [
    "ax = sns.catplot(x='day', y='tip_pct', kind='box',\n",
    "                 data=tips[tips.tip_pct < 245]);\n",
    "\n",
    "ax = sns.stripplot(x='day', y='tip_pct', data=tips[tips.tip_pct < 245], orient='v', color='darkblue', alpha= 0.4);"
   ]
  },
  {
   "cell_type": "markdown",
   "metadata": {},
   "source": [
    "<span style=color:blue><font size=4><b><u>Tres Variables</u></b> : 2 Categóricas = ('day', 'time'), 1 Numérica = 'tip_pct'</font></span>"
   ]
  },
  {
   "cell_type": "code",
   "execution_count": 24,
   "metadata": {},
   "outputs": [
    {
     "data": {
      "image/png": "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\n",
      "text/plain": [
       "<Figure size 432x288 with 1 Axes>"
      ]
     },
     "metadata": {},
     "output_type": "display_data"
    }
   ],
   "source": [
    "sns.boxplot(x='day', y='tip_pct', hue='time', \n",
    "               data=tips[tips.tip_pct < 245]);"
   ]
  },
  {
   "cell_type": "code",
   "execution_count": 25,
   "metadata": {},
   "outputs": [
    {
     "data": {
      "image/png": "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\n",
      "text/plain": [
       "<Figure size 432x288 with 1 Axes>"
      ]
     },
     "metadata": {},
     "output_type": "display_data"
    }
   ],
   "source": [
    "sns.boxplot(x='day', y='tip_pct', hue = 'time',\n",
    "               data=tips[tips.tip_pct < 245]);\n",
    "ax = sns.stripplot(x='day', y='tip_pct', hue='time', data=tips[tips.tip_pct < 245], orient='v', color='darkblue', alpha= 0.4);"
   ]
  },
  {
   "cell_type": "markdown",
   "metadata": {},
   "source": [
    "<span style=color:blue><font size=4><b><u>Cuatro Variables</u></b> : 3 Categoricas = ('day', 'time', 'smoker'), 1 Numérica = 'tip_pct'</font></span>"
   ]
  },
  {
   "cell_type": "code",
   "execution_count": 27,
   "metadata": {},
   "outputs": [
    {
     "data": {
      "image/png": "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\n",
      "text/plain": [
       "<Figure size 792.225x360 with 2 Axes>"
      ]
     },
     "metadata": {},
     "output_type": "display_data"
    }
   ],
   "source": [
    "sns.catplot(x='day', y='tip_pct', hue='time', col='smoker',\n",
    "               kind='box', data=tips[tips.tip_pct < 245]);"
   ]
  },
  {
   "cell_type": "markdown",
   "metadata": {},
   "source": [
    "# Nivell 2\n",
    "## - Exercici 2\n",
    "\n",
    "Repeteix l'exercici 1 amb el dataset que disposem en el repositori de GitHub ***PRE-PROCESSING-DATA***, movies.dat"
   ]
  },
  {
   "cell_type": "code",
   "execution_count": 70,
   "metadata": {},
   "outputs": [
    {
     "name": "stdout",
     "output_type": "stream",
     "text": [
      "1996    8.859130\n",
      "1995    8.807623\n",
      "1998    8.627350\n",
      "1997    8.086531\n",
      "1999    7.236673\n",
      "          ...   \n",
      "3000    0.025753\n",
      "1900    0.025753\n",
      "1600    0.025753\n",
      "2010    0.025753\n",
      "9000    0.025753\n",
      "Name: SortedYear, Length: 88, dtype: float64\n"
     ]
    }
   ],
   "source": [
    "import re\n",
    "import pandas as pd\n",
    "\n",
    "df = pd.read_csv('movies.dat', sep=\"::\", engine='python', names=['id','Nom', 'Categoria'])\n",
    "#print(df)\n",
    "df['MovieName'] = df['Nom'].str.extract(pat = '(^[A-Za-z\\s]*)') \n",
    "df['Year'] = df['Nom'].str.extract(pat = '([0-9]{4})') \n",
    "categoria = df['Categoria'].str.split(pat = '|', expand = True)\n",
    "\n",
    "for x in categoria:\n",
    "    df['Category']=categoria[0]\n",
    "\n",
    "df['SortedYear'] = df['Year'].sort_values() \n",
    "\n",
    "percentatge = (df['SortedYear'].value_counts()/df['id'].count())*100\n",
    "    \n",
    "print(percentatge)"
     "    \n",
  "print(df['SortedYear'])"
   ]
  },
  {
   "cell_type": "markdown",
   "metadata": {
    "collapsed": true
   },
   "source": [
    "<span style=color:blue><font size=4><b><u>Una Variable</u></b>: 1 Numérica = 'Frecuencia anys'</font></span>"
   ]
  },
  {
   "cell_type": "code",
   "execution_count": 77,
   "metadata": {},
   "outputs": [
    {
     "data": {
      "image/png": "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\n",
      "text/plain": [
       "<Figure size 432x288 with 1 Axes>"
      ]
     },
     "metadata": {
      "needs_background": "light"
     },
     "output_type": "display_data"
    }
   ],
   "source": [
    "sns.boxplot(y=df['SortedYear'], data=df['SortedYear'],  color='lightblue', fliersize=5,  orient='v', linewidth=1 , width=0.3);"
   ]
  },
  {
   "cell_type": "code",
   "execution_count": null,
   "metadata": {},
   "outputs": [],
   "source": []
  },
  {
   "cell_type": "markdown",
   "metadata": {},
   "source": [
    "<span style=color:blue><font size=4><b><u>Dos Variables</u></b>: 1 Categórica = 'any', 1 Numérica = 'percentatge'</font></span>"
   ]
  },
  {
   "cell_type": "code",
   "execution_count": 72,
   "metadata": {},
   "outputs": [
    {
     "data": {
      "text/plain": [
       "<matplotlib.axes._subplots.AxesSubplot at 0x1ae0c58c208>"
      ]
     },
     "execution_count": 72,
     "metadata": {},
     "output_type": "execute_result"
    },
    {
     "data": {
      "image/png": "iVBORw0KGgoAAAANSUhEUgAAA64AAAKrCAYAAADxvNB1AAAABHNCSVQICAgIfAhkiAAAAAlwSFlzAAALEgAACxIB0t1+/AAAADh0RVh0U29mdHdhcmUAbWF0cGxvdGxpYiB2ZXJzaW9uMy4xLjMsIGh0dHA6Ly9tYXRwbG90bGliLm9yZy+AADFEAAAgAElEQVR4nOzdebglV10v7s8iTSYCIqYzkAQCiKCi/sCgTIIM9xJCJGQSEJEQMIjMoDw4cPUKjj9QRgMxzGMgCYIBmQUVBQ0BNCQhkDCkIUMHMUxCSFL3j7V2evfu2vucDtnnrO687/P0031OfXutVbV2Ve1PVe1zyjAMAQAAgF7daL0HAAAAAIsIrgAAAHRNcAUAAKBrgisAAABdE1wBAADo2ob1HsC0vffeezj44IPXexgAAABczz7xiU9cPgzDxuvyf7sKrgcffHDOPPPM9R4GAAAA17NSypeu6//1qDAAAABdE1wBAADomuAKAABA1wRXAAAAuia4AgAA0DXBFQAAgK4JrgAAAHRNcAUAAKBrgisAAABdE1wBAADomuAKAABA1wRXAAAAuia4AgAA0DXBFQAAgK4JrgAAAHRNcAUAAKBrgisAAABdE1wBAADomuAKAABA1wRXAAAAuia4AgAA0DXBFQAAgK4JrgAAAHRNcAUAAKBrgisAAABdE1wBAADomuAKAABA1wRXAAAAuia4AgAA0DXBFQAAgK5tWO8BAAAAbI9LXnDewuX7PfOOazQS1oo7rgAAAHRNcAUAAKBrHhUGAAC6cMnzL1y4fL/fuu0ajYTeuOMKAABA1wRXAAAAuia4AgAA0DXBFQAAgK4JrgAAAHRNcAUAAKBrgisAAABdE1wBAADomuAKAABA1wRXAAAAuia4AgAA0DXBFQAAgK5tWO8BAAAALMMlf/mfC5fv94yfWqOR8INyxxUAAICuCa4AAAB0TXAFAACga4IrAAAAXRNcAQAA6JrgCgAAQNcEVwAAALomuAIAANA1wRUAAICuCa4AAAB0TXAFAACga4IrAAAAXRNcAQAA6JrgCgAAQNcEVwAAALomuAIAANA1wRUAAICuCa4AAAB0TXAFAACga4IrAAAAXRNcAQAA6JrgCgAAQNcEVwAAALomuAIAANA1wRUAAICuCa4AAAB0TXAFAACga4IrAAAAXRNcAQAA6JrgCgAAQNcEVwAAALomuAIAANA1wRUAAICuCa4AAAB0TXAFAACga4IrAAAAXRNcAQAA6NqG9R4AAADb59Gnf2nh8tcedes1GgnA2nDHFQAAgK4JrgAAAHRtqcG1lPL0UspnSilnl1LeXErZfZn9AQAAsPNZWnAtpRyQ5ClJDhmG4U5Jdkny8GX1BwAAwM5p2Y8Kb0iyRyllQ5I9k3x1yf0BAACwk1lacB2G4StJnp/ky0kuTnLFMAzvm60rpZxQSjmzlHLm5s2blzUcAAAAdlDLfFT4h5MckeQ2SW6Z5CallF+drRuG4aRhGA4ZhuGQjRs3Lms4AAAA7KCW+ajwA5J8YRiGzcMwfD/J6UnuscT+AAAA2AktM7h+OcndSil7llJKkvsnOXeJ/QEAALATWuZnXD+e5NQkZyX5z9bXScvqDwAAgJ3ThmU2PgzDHyT5g2X2AQAAwM5t2b8OBwAAAH4ggisAAABdE1wBAADomuAKAABA1wRXAAAAuia4AgAA0DXBFQAAgK4JrgAAAHRNcAUAAKBrgisAAABdE1wBAADomuAKAABA1wRXAAAAuia4AgAA0DXBFQAAgK4JrgAAAHRNcAUAAKBrgisAAABdE1wBAADomuAKAABA1wRXAAAAuia4AgAA0DXBFQAAgK4JrgAAAHRNcAUAAKBrgisAAABdE1wBAADomuAKAABA1wRXAAAAuia4AgAA0DXBFQAAgK4JrgAAAHRNcAUAAKBrgisAAABdE1wBAADomuAKAABA1wRXAAAAuia4AgAA0DXBFQAAgK4JrgAAAHRNcAUAAKBrgisAAABdE1wBAADomuAKAABA1wRXAAAAuia4AgAA0DXBFQAAgK5tWO8BAAAAO6+L/2LTijX7P+vANRgJOzJ3XAEAAOia4AoAAEDXBFcAAAC6JrgCAADQNcEVAACArgmuAAAAdE1wBQAAoGuCKwAAAF0TXAEAAOia4AoAAEDXBFcAAAC6JrgCAADQNcEVAACArgmuAAAAdE1wBQAAoGuCKwAAAF0TXAEAAOia4AoAAEDXBFcAAAC6JrgCAADQNcEVAACArgmuAAAAdE1wBQAAoGuCKwAAAF0TXAEAAOia4AoAAEDXBFcAAAC6JrgCAADQNcEVAACArgmuAAAAdE1wBQAAoGuCKwAAAF0TXAEAAOia4AoAAEDXBFcAAAC6JrgCAADQNcEVAACArgmuAAAAdE1wBQAAoGuCKwAAAF0TXAEAAOia4AoAAEDXBFcAAAC6tmG9BwAAAOx4Nr3gkoXLD3zmfms0Em4I3HEFAACga4IrAAAAXRNcAQAA6JrgCgAAQNcEVwAAALomuAIAANA1wRUAAICuCa4AAAB0TXAFAACga4IrAAAAXRNcAQAA6JrgCgAAQNcEVwAAALomuAIAANA1wRUAAICuCa4AAAB0TXAFAACga4IrAAAAXRNcAQAA6JrgCgAAQNcEVwAAALomuAIAANA1wRUAAICuCa4AAAB0TXAFAACga4IrAAAAXRNcAQAA6JrgCgAAQNcEVwAAALomuAIAANA1wRUAAICuCa4AAAB0TXAFAACga4IrAAAAXRNcAQAA6JrgCgAAQNcEVwAAALomuAIAANA1wRUAAICuLTW4llJuXko5tZRyXinl3FLK3ZfZHwAAADufDUtu/0VJ3jMMwzGllF2T7Lnk/gAAANjJLC24llJuluTeSY5LkmEYrkxy5bL6AwAAYOe0zEeFb5tkc5JXl1I+WUo5uZRyk9miUsoJpZQzSylnbt68eYnDAQAAYEe0zOC6Icldkpw4DMOdk3w7ybNni4ZhOGkYhkOGYThk48aNSxwOAAAAO6JlBtdNSTYNw/Dx9vWpqUEWAAAAVm1pwXUYhkuSXFRKuUP71v2TnLOs/gAAANg5LfunCj85yRvbTxS+MMljltwfAAAAO5mlBtdhGD6V5JBl9gEAAMDObZmfcQUAAIAfmOAKAABA1wRXAAAAuia4AgAA0DXBFQAAgK4JrgAAAHRNcAUAAKBrgisAAABdE1wBAADomuAKAABA1wRXAAAAuia4AgAA0DXBFQAAgK4JrgAAAHRNcAUAAKBrgisAAABdE1wBAADomuAKAABA1wRXAAAAuia4AgAA0DXBFQAAgK4JrgAAAHRNcAUAAKBrgisAAABdE1wBAADomuAKAABA1wRXAAAAuia4AgAA0DXBFQAAgK4JrgAAAHRNcAUAAKBrgisAAABdE1wBAADomuAKAABA1wRXAAAAuia4AgAA0DXBFQAAgK4JrgAAAHRNcAUAAKBrgisAAABdE1wBAADomuAKAABA1wRXAAAAuia4AgAA0DXBFQAAgK4JrgAAAHRNcAUAAKBrgisAAABdE1wBAADomuAKAABA1wRXAAAAuia4AgAA0DXBFQAAgK4JrgAAAHRNcAUAAKBrgisAAABdE1wBAADomuAKAABA1wRXAAAAuia4AgAA0DXBFQAAgK4JrgAAAHRNcAUAAKBrKwbXUu2/FoMBAACAWSsG12EYhiRnrMFYAAAAYBurfVT430opd1nqSAAAAGDEhlXW3SvJr5dSLkjy7SQl9WasMAsAAMBSrTa4PnSpowAAAIA5VhVch2G4IElKKbdIsvtSRwQAAABTVvUZ11LKg0sp5yfZlOTjSS5K8qFlDgwAAACS1f9wpj9Ocs8knx2G4aAkhyb58LIGBQAAABOrDa5XDcOwOcmNSillGIb3J/GDmQAAAFi61f5wpitKKTdJ8tEkryulXJbkmuUNCwAAAKrV3nF9aJLvJnlq6iPCX0nyS0saEwAAAFxrtT9V+JullAOT3H4YhleWUnZPsstyhwYAAACr/6nCxyd5Z5KT27duleQdyxoUAAAATKz2UeGnJLlbkm8kyTAM5yfZd1mDAgAAgInVBtfvDsNw5eSLUorHhAEAAFgTqw2uHy2lPCvJ7qWU+yY5JckZyxsWAAAAVKsNrs9K8s0k56X+ZOEPJvm9ZQ0KAAAAJhb+VOF2l/UFwzBcneTE9gcAAADWzEp3XG+d5BOllHuuxWAAAABg1sI7rsMwPLGUcpckLymlnJd6x/WaqeVnLXl8AAAA3MAtDK5JDaellN9LclqS2yUZJouS3G+JYwMAAIAVP+O6T5IXJLltkvsNw/DpNRkVAAAANCt9xvVjSf4pyb2EVgAAANbDSo8K//wwDJvXZCQAAAAwYqXg+qFSyjBv4TAMP309jwcAAAC2slJwPbz9/cT29+vb349M8p2ljAgAAACmrPTrcL6UJKWUew7DMP27XJ9dSvlokj9a5uAAAABgpR/ONHGTUsq9Jl+UUu6R5CbLGRIAAABsseLvcW0em+RVpZQfSv39rVckOX5powIAAIBmVcF1GIZPJPmZUsrNkpRhGK5Y7rAAAACgWtWjwqWUfUspr0xyyjAMV5RSfqKU8tgljw0AAABW/RnX1yR5b5Jbtq/PT/K0ZQwIAAAApq02uO49DMNbk1yTJMMwXJXk6qWNCgAAAJrVBtdvl1J+JPUHM6WUcrfUH9AEAAAAS7Xanyr8jCTvTHK79vtbNyY5dmmjAgAAgGa1wfUzSe6T5A5JSpLPZvV3awEAAOA6W234/NdhGK4ahuEzwzCcPQzD95P86zIHBgAAAMkKd1xLKfslOSDJHqWUO6febU2SmyXZc8ljAwAAgBUfFX5gkuOSHJjkBdkSXL+R5HeXNywAAACoFgbXYRheW0p5fZJHDMPwxjUaEwAAAFxrxc+4DsNwTZLHr8FYAAAAYBur/eFM7y+l/FYp5aBSyi0mf5Y6MgAAAMjqfx3O8e3vJ059b0hy2+t3OAAAALC1VQXXYRhus+yBAAAAwJhVBddSyo2TPCHJvdu3PpzkFe33uQIAAMDSrPZR4ROT3DjJX7evH9W+97hlDAoAAAAmVhtc7zoMw89Mff2hUsqnlzEgAAAAmLbanyp8dSnldpMvSim3TXL1coYEAAAAW6z2jutvJ/mHUsqF7euDkzxmKSMCAACAKQvvuJZS7lpK2W8Yhg8muX2S05N8I8n7knhUGAAAgKVb6VHhVyS5sv3755M8O8lrk1ya5KQljgsAAACSrPyo8C7DMPxX+/fDkpw0DMNpSU4rpXxquUMDAACAle+47lJKmYTb+yf50NSy1X4+FgAAAK6zlcLnm5N8pJRyeZL/SfJPSVJK+dEkVyx5bAAAALA4uA7D8MellA8m2T/J+4ZhGNqiGyV58rIHBwAAN1SfeOVlC5f/7GP3WaORwPpb8XHfYRg+NvK985czHAAAANjaSp9xBQAAgHUluAIAANA1wRUAAICuCa4AAAB0TXAFAACga4IrAAAAXRNcAQAA6NqKv8cVAGA1HnLquxYuf+cxD16jkQCws3HHFQAAgK4JrgAAAHRNcAUAAKBrgisAAABdW3pwLaXsUkr5ZCnljGX3BQAAwM5nLe64PjXJuWvQDwAAADuhpQbXUsqBSR6c5ORl9gMAAMDOa9l3XF+Y5FlJrplXUEo5oZRyZinlzM2bNy95OAAAAOxolhZcSymHJ7lsGIZPLKobhuGkYRgOGYbhkI0bNy5rOAAAAOyglnnH9Z5JHlJK+WKStyS5XynlDUvsDwAAgJ3Q0oLrMAy/MwzDgcMwHJzk4Uk+NAzDry6rPwAAAHZOfo8rAAAAXduwFp0Mw/DhJB9ei74AAADYubjjCgAAQNcEVwAAALomuAIAANA1wRUAAICuCa4AAAB0TXAFAACga4IrAAAAXRNcAQAA6JrgCgAAQNcEVwAAALomuAIAANA1wRUAAICuCa4AAAB0TXAFAACga4IrAAAAXRNcAQAA6JrgCgAAQNcEVwAAALomuAIAANA1wRUAAICuCa4AAAB0TXAFAACga4IrAAAAXRNcAQAA6JrgCgAAQNcEVwAAALomuAIAANA1wRUAAICuCa4AAAB0TXAFAACga4IrAAAAXRNcAQAA6JrgCgAAQNcEVwAAALomuAIAANA1wRUAAICuCa4AAAB0TXAFAACga4IrAAAAXRNcAQAA6JrgCgAAQNcEVwAAALomuAIAANA1wRUAAICuCa4AAAB0TXAFAACga4IrAAAAXRNcAQAA6JrgCgAAQNcEVwAAALomuAIAANA1wRUAAICuCa4AAAB0TXAFAACga4IrAAAAXRNcAQAA6JrgCgAAQNcEVwAAALomuAIAANA1wRUAAICuCa4AAAB0TXAFAACga4IrAAAAXRNcAQAA6JrgCgAAQNcEVwAAALomuAIAANA1wRUAAICuCa4AAAB0TXAFAACga4IrAAAAXRNcAQAA6JrgCgAAQNcEVwAAALomuAIAANA1wRUAAICuCa4AAAB0TXAFAACga4IrAAAAXRNcAQAA6JrgCgAAQNcEVwAAALomuAIAANA1wRUAAICuCa4AAAB0TXAFAACga4IrAAAAXduw3gMAAK4/h5/6toXLzzjm2DUaCQBcf9xxBQAAoGuCKwAAAF0TXAEAAOiaz7gCAOykfuvtmxYuf/6RB67RSAB+MO64AgAA0DXBFQAAgK4JrgAAAHRNcAUAAKBrgisAAABdE1wBAADomuAKAABA1wRXAAAAuia4AgAA0DXBFQAAgK4JrgAAAHRNcAUAAKBrgisAAABdE1wBAADomuAKAABA1wRXAAAAuia4AgAA0DXBFQAAgK4JrgAAAHRNcAUAAKBrgisAAABdE1wBAADomuAKAABA1wRXAAAAuia4AgAA0DXBFQAAgK4JrgAAAHRNcAUAAKBrgisAAABdE1wBAADomuAKAABA1wRXAAAAuia4AgAA0DXBFQAAgK4JrgAAAHRNcAUAAKBrgisAAABdE1wBAADomuAKAABA15YWXEspB5VS/qGUcm4p5TOllKcuqy8AAAB2XhuW2PZVSZ45DMNZpZSbJvlEKeX9wzCcs8Q+AQAA2Mks7Y7rMAwXD8NwVvv3N5Ocm+SAZfUHAADAzmlNPuNaSjk4yZ2TfHwt+gMAAGDnsfTgWkrZK8lpSZ42DMM3RpafUEo5s5Ry5ubNm5c9HAAAAHYwy/yMa0opN04NrW8chuH0sZphGE5KclKSHHLIIcMyxwMAVL906uhpeSt/d8xRazASAFjZMn+qcEnyyiTnDsPwl8vqBwAAgJ3bMh8VvmeSRyW5XynlU+3PYUvsDwAAgJ3Q0h4VHobhn5OUZbUPAADADcOa/FRhAAAAuK4EVwAAALomuAIAANA1wRUAAICuCa4AAAB0TXAFAACga4IrAAAAXVva73EFAIDry1tPu3zh8l8+eu81GgmwHtxxBQAAoGuCKwAAAF3zqDAArKPDT33jwuVnHPPINRoJAPTLHVcAAAC6JrgCAADQNcEVAACArgmuAAAAdE1wBQAAoGuCKwAAAF3z63AAAOAG4Ly/vnTh8jv+5r5rNBLYfu64AgAA0DXBFQAAgK4JrgAAAHRNcAUAAKBrgisAAABdE1wBAADomuAKAABA1wRXAAAAurZhvQcAAABcd/9x0mULl//0CftsV3sXvviShctv+5T9tqs9uD644woAAEDX3HGFjrzpNQ9cuPxXjnvvGo0EAAD64Y4rAAAAXRNcAQAA6JrgCgAAQNcEVwAAALomuAIAANA1wRUAAICuCa4AAAB0TXAFAACga4IrAAAAXRNcAQAA6JrgCgAAQNcEVwAAALomuAIAANA1wRUAAICuCa4AAAB0TXAFAACgaxvWewBAH17x+gcuXP74R713jUYCAABbc8cVAACArgmuAAAAdE1wBQAAoGuCKwAAAF0TXAEAAOia4AoAAEDXBFcAAAC6JrgCAADQNcEVAACArgmuAAAAdE1wBQAAoGsb1nsAAABjHnrqBxYu/9tjHrBGIwFgvbnjCgAAQNcEVwAAALomuAIAANA1n3EFAGDdvO70zQuX/9pRG9doJEDP3HEFAACga4IrAAAAXRNcAQAA6JrgCgAAQNcEVwAAALomuAIAANA1wRUAAICuCa4AAAB0TXAFAACga4IrAAAAXduw3gMAANhRHXPaWQuXn3r0XdZoJAA7N3dcAQAA6JrgCgAAQNcEVwAAALomuAIAANA1P5wJANihHXnahxcuf/vRv7gm4wBgedxxBQAAoGuCKwAAAF0TXAEAAOiaz7gCwHY4/LRXL1x+xtGPWaORAMANhzuuAAAAdE1wBQAAoGseFQZg6R58+gsWLn/XUc9co5EAADsid1wBAADomjuuAHTjwae/aOHydx311DUaCQDQE3dcAQAA6Jo7rgCQ5MGnnbxw+buOftwajQQAmOWOKwAAAF1zxxUAAOAG5rKXnbFw+T5PPHyNRrI6gisAsKaOOPU9C5e/45hD12gkAOwoPCoMAABA1wRXAAAAuia4AgAA0DWfcQXW1V+85YELlz/r4e9do5H84I55x+LP5Z16xOLP9QE87LTPLVx+ytG3X6OR/OBecfplC5c//qh91mgka+MfX795xZp7P2rjGowEdk7uuAIAANA1d1wBYAdw+KlvWbj8jGMevkYjAYC1544rAAAAXXPHFbjBesZpiz+T+pdHr+9nUh/0jt9YuPzvj3j5Go0EgOvTx167+POwd3u0z8KutUtfeNbC5fs+7S5rNBLmEVwB1tiD3vGwhcv//ohT1mgkO78Hn/aKFWvedfTj12Ak3NAde9rZC5e/7eg7rdFIAHZMHhUGAACga+64AgBMOfq0j69Yc9rRP78GIwF6c+kL/23h8n2f9nNrNJIbHndcAQAA6JrgCgAAQNcEVwAAALrmM67coLznlYctXH7oY9+9RiOB9XHY3/7+wuXvfujz1mgkAACr544rAAAAXXPHFWAHd9jfPnPFmnc/9AVrMJK18+DTX7Zw+buOeuIajQQAWAvuuAIAANA1d1xhxBmvetDC5Ycf//drNBLo22Fv/7OFy9995LPXaCT9OfzU1y1cfsYxv7ZGIwGAHZ/gCmyXl77xgQuXP+mR702S/NWbFtc9/Vfeu139PveUxe0952Hb1x4AADsOjwoDAADQNXdcYSf3ytf974XLH/tr71ujkbAjOeztf7Rw+buP/D9rNBIAIEkue8kHFi7f58kPWKORrA93XAEAAOiaO67wA3j7Cj/E6cj2Q5ze9upDF9Yd+5j3bFe/r33N4ruoSfLo4264d1J/722Lt/cfH7t92/uEty9u76Qjt689AAC2jzuuAAAAdM0d153QBS85YuHy2z35HWs0krXzwZMfvHD5/R/3rjUaCQAAcH1zxxUAAICuCa4AAAB0zaPCrLl/OenwhcvvccIZazQSAG5IjjrtnxcuP/3oe63RSADYXu64AgAA0DV3XAGAhR5y6uIf6vfOYxb/UED699y3f3Xh8uccecskyV+9/ZIV23r6kftdL2O6rt7xtssXLj/i2L23q70PvmnzwuX3/5WN29UecN244woAAEDXurvjuvnENyxcvvEJv7pGI/nBXPzXz1m4fP/ffO4ajWTH9ZG/WfwrbpLkPr/u19wAANvv709ZfGf2QQ/bvjuzwHK54woAAEDXBFcAAAC6JrgCAADQNcEVAACArnX3w5lYO+e+7CELl//4E9+ZJPn0iYvrfuYJte7fX/FLC+vu+vi/247RAQDAzu/SF39k4fJ9n3KfNRpJ39xxBQAAoGvuuK6zr77saSvW3PKJL0ySXPSSxb8K6KAnL/5VQgAAADuipd5xLaUcWkr5bCnl86WUZy+zLwAAAHZOS7vjWkrZJcnLkvyvJJuS/Hsp5Z3DMJxzfbS/+cRXL1y+8QmPqXUvf8Xiut94fJLkspe/aGHdPr/x1CTJpSf+2cK6fZ8gnwMAwA3ZpS/66MLl+z71nkvr+7KXvmfh8n2edOj2tfeyty9u74lH1rq/fuviut/85e3qd9Yy77j+XJLPD8Nw4TAMVyZ5S5IjltgfAAAAO6EyDMNyGi7lmCSHDsPwuPb1o5L8/DAMT5qpOyHJCe3LOyT57ExTeye5fBVd7ix169l373Xr2XfvdevZd+9169l373Xr2XfvdevZd+9169m3de6vbj377r1uPfvuvW49++69bj37Xou6Ww/DsHEV/3dbwzAs5U+SY5OcPPX1o5K85Dq0c+YNqW5HGKNt01/djjBG26a/uh1hjLZNf3U7whits23TQ92OMEbbpr+6HWGMy1jn1fxZ5qPCm5IcNPX1gUm+usT+AAAA2AktM7j+e5Lbl1JuU0rZNcnDk7xzif0BAACwE1raTxUehuGqUsqTkrw3yS5JXjUMw2euQ1Mn3cDq1rPv3uvWs+/e69az797r1rPv3uvWs+/e69az797r1rNv69xf3Xr23Xvdevbde9169t173Xr2vZ7rvKKl/XAmAAAAuD4s81FhAAAA+IEJrgAAAHRtaZ9xnaeU8qokhye5bBiGO019/8lJnpTkqiTvSv29P4cnuSbJt5JcneSvkjw6yV5Jvp3kR5LsmxrAv7VCXUnyzSQ/mfqZ2xOHYXhSKeVnkrw8yQFJbp7kK0m+n/oTkXdP8vkkVyY5McljW5tfb20elGS3Nsaxut2T7NHG+K057d00ycYkV7S/90gyzGlv3ySXpv6E5j0X9Lt/G+MtkvxQW5+xui8l2Zzknklu2cZ3VZLPJPntJF9LfTb9p9v//VKSH2tTNm+MV7Z29m/rdtWCut3adt+9tfnZNk+vSfLLI/O8oS0fq/uhtu02tLHtMVL3w6mvq68l2af1P9beTdu4NqW+tjYkuW1bl/OT/GGSC1NfN3sl+WKSW7X295rT915JbpfkC0n2m5qXsbpNSb6X5BentuG5M3W3aO18qY31h1Nf+58Zaa+kvub3y5bXzVi/pa3v/m2dv5TksCTnJHlFkntk233q60lu3f4+oG2b97dtc4ckN0lyQZKPpe33I23Ozsu8vqfn5cAku7btOTbGL6b+Cq4L2tefm1M3PSc3a9tlrG4yJ3dstdek7jvT6/yatnyyr9yx/Z9523F6XgaWAMoAABwGSURBVPZoY33QnLrJvOzaav8j1efatpg9Lt049fU9Vjd9XLoi9bU0Wzd7XNqt/b+x9qaPS3u0MY7VfTHJI5O8Icl92vb+btvmH0s9Prw8yU+1/3th274l9dg81ubkGHZU6mvtRiN1N2t/T+8rJcmnR9qbPn7tlfpaHOt3+vi1a+pPzL+89bVr6mv5Jtl6Tjaknl/G6iZzcvMkb01yRPv6C6mvteOTvDTJj7exb0o9fuzX5miszel52b31vXmkbjIvZ6eeB74wp73p88rN2hguGambnZPNrY/pupuOzMk3Uo9zs+1N5uTq1vdN2raf3jYvzrbn8Fu3dia/G/6nk/xn6mtk7Bw+Vje9r3xnTnu7ZOt9Zc8F7U3PyU3aOo3VTc/JAW0bjNVN5uTbSX60jXdyXvnp1B+K+fS2vW/alu3d1qOMtLlhZF6uaeOY7Xv2XH91kvPm1E32ld1Sj4mbWl/vS/JzGX9P9/05dZNz/aWpPwT04W1dvpDkdUneneRVqeefobVxReo5/MYjbY6dV66c0/cXs/V55Ttz6mbPK9+aUzd9rt8ryf+0Pqbrxs71321jmG1vck65OvV1eMs2H9Pb5uWp+8ZeqfvK7La5JnV/ely2Pa9smJq/2brpfeXrc9qbPa9Mb+vZ9maPX9+dU/fFbH38+uacuul95VZt+yR1H3hqW/bybLuvlNbWbJtj55UrU88Ts31P9pUbZct7nN1Sj3GPTD3HnJLkTq3+krb8263+miQXJ3lKkt9LcnCbh73a8v/OluPYbN0Pt7m4pm3PW7Xt/uwkpyV5S+pr7Kupr7NbtNrJeM9ty368bZPvph5nb9q2zc3aelyc5DlJnjE1vj1aW89L8rOp74O+k+S4YRjOSpJSyqOT/H6bi+cNw/DarOT6/N06q/x9PvdOcpckZ099775JPpBkt/b1Pq3u6NQdebckt2kb7L6pO+ZlSV6S5H6pO+X3VqjbNXVH//3UnfWlra9/T/JLSb7cJvu5Sd7TNvR5reZOqS+8+7SvL0w9MN47ySeTXDSn7nmpIfo7SR4x1l7qzvMXrd/7pb5I5rX3m63u3kk+nuSrc+rOS3Jyqxvtt339jiT/1P792CTHpO78d2rb6N+nao9vfX82yf+dsy4bUt98PL/1/c4kl4/U/UjqC/0Fre5dSb7Q6vZP3TnuNzLP5yf53Gxd+/rPkvxNm5t7pL2+ZtrbPzVkPDfJA9ucb9Ne6s74hFZ34zYnj2nbZv82pult85a27F/m9d2+vnxq2yyq+2iSv2t1905y7py6yZz8Ymv7syPrckDqG8c/bW19MMmmkbo7pR6Y/zR13/l4296nJXlbkova3M3uU59P3U+vaHW/Ndk2rb8/bPXX7vcjbc7Oy5dSD/6zddPzct/UN0YXzNZNbZv3pQbKfxzrd2RORsc3PSft3/dr9dus81Tfz0t9jR82Z51n5+V9bfvP1s3OyyeTfG/q2Dnd7/Rx6cwkV86pmz4uPTjJd2frsu1x6ewF7U0flz6a5Ptz6o5v6/am1H3v89n6PDDp+8NJ/miqzdExTh/DWt3hC+qOn2rvc2Prkm2PX6cmuWqkbvb4dUbqse1nWt1ZSe47Mif/sqBuMiffavN8fpLPt2U/0vr+323Z8Un+ODV4PyX1fDfW5vS8fGhB35N5eX+bk3ntTZ9X7rqgbnpOfm5B3fScnJN6Dt+qbnpO2vff3Lb97LYZO4c/PluOsT/VxjG2r3w0yRfn1E3vK3cZay/b7itnLWhvek4+mC3n+tm62TmZtx7nJTl59r1Vq7swW16z/zf1nPLc9vX9FrQ5Oy8Xjqzz7L7y2tSbEbN1s/vKWUm+1er2bHP+sGx7rr84yTdn62bO9WenHife2/69Z2qI+XSSI9u2OD7Jn6ceT1+Y5L9H+p49r1w0NsaR88q5Y+2NnFd+d0Hd9Ln+95NcsaDfybn+m0m+MbIe155T2rLPpJ4jZ7fNce17v5H6+j4z9ULp14ct77+/neQXR/aVC6bmZbZuel/5s7H2su2+ctGC9qb3lfOSfHtO3fS+snnBekzvK3+Vepw6u9V9IvP3lRcuaHN6X5l+zU6v8/S+sn/qRdpPpga/C9o8/UXqa/nLrb2XtjH8Turr7fzUCzRfTQ2ct0jdr/6mjfHi1GP8VnVtLH+Tei77+zauu6W+v39x6kXSh6fuf1e0cXwh9T3HKW35ianvoUqSn0gN+H+SmgW+kPo+8AOp59+vzYzvRanB+eI2P6X1//E2tlukvr5u0eouTPLDk3PuvD9rHlzbYA/O1m9Y3prkASN1f57kkqmvr0py9/bnI0nOad//yOQFs0Ld77Q2N2VLcP1G6kn4A6lXlM5JvaL2+mw5sE+uuOzWXnifn2rzyUn+a7aufT1p71vT6zyvrv37VUm+skJ7N27j/fKcun/NlpPNon6/mhaKpmtb3dfatilTfX8+9UAz2mYb19dS3xiWJG8cW5e2vf9pap2fnuRr7d+3aXUbRubv2tfDdN3U+D7Xxj89vrG6SXvvy5bAPFqXeqA9K8lDW9u3Sb1q9Y22Tgcm+efUk8IZK/R9UbaEy9G61KtXX54a44rrkvqG9sw57R3Q5vm89vUHs+VN1XTdsalvCif9viD1APX/p4bK77b1HdunTk89Yfxhaoibft3cPS1MtHX50mybc+bl0kV1bV7OTr0yOVZ319QTx/3aOs/rd3ZOtqmbnZNWe8KCdT6otfPRBW2OzctlI3Wz8/I32ToYTl6Hs8elP8jWoWt2fJPj0r2yddjbpm7qGL1NvyPHpX/O1qFwuu4OqW9qfiL1pPfZbH0emKzLh1PD6qTvRWO89hi2mnVJcvvU19Y2ddn2+PW3c7b17PHrpGx9MWHenJw4VjcyJ4clefvYtpmpfVHq+eK/VzEvn0x747fCvGxa0N70eeW4BXXTc7KobnpOvjZWNzIn727rMrttVjqH/0nqG/yxeZk+h19bt8I5fLRu5Bw+r73Zc/hs3ey+Mq/fa+dk5hz+J6kXNybb8aLUp6XGzivzxnj7Npdj23DRuX66bnZfeV3qBZQNqaF2chd99rzyztRj4FZ1I+f6R7TteHarOz/jr7F3JHlZWzavzcl55aLUc8dY3fR55ewF7U2fV548Vpdtz/WjdSPn+gvmtDd7TjkrbV+Z2TbHpl6AmrT5nNTgdtHU6+iq1ItOs/vKP6aF+um6kX3ldWPtjewr56Ttewvau3Hbnl+bUze9r3x9Qb/Tx6+XJXlatry2P9jGPbavrLguqfvKt+Zsw9l95ewkr2w172hz9KUkh6a+lvdP3ecflRpqH9Hq/lfaxcf2vddny2vsnNSLPlvVtWX7p77Ozmhf75kaJF+ceoFl8l77Y6nn3ovanL889T3toa2upL7fOyP1AvvJqReN7p76Gnpp6n6//7zxTW2bz07VvWLq+69I8ojJ1/P+9PIZ1x9L8gullI+XUj5SSrlr+/5+qXeEJr6WGiAmj5wc1L4/ux7z6ja1Nqednfqiu2Pqm9GD2v/df6rm6NQd/tDW5jVTbV6SLY9cT9cl9QBxULY1WldKuXmSB6TuAPPqfiz1De6327Kxuo1Jbl1K+VTqwXCbfltfeyS5XSnlrFLK21Ifi5jUTQ54D5lZl1PmrcswDN9PvUr0o6kH0B9NPZDMjvHzqVdlb1VK2ZB6MN69lDK5Qnh+6hvX2fm7JMkeI3WT8U3P2aK6g0opB6c+Np45db+cekC8LPVKUdr6/GfqlcrJtnlhkn9LvZK1Ut97JvnRUsonUnfYsbrbttrbl1I+mXrlcs9F65ItvyN5m/aGYfhK6t3TO6RdEUxy9Uh7Zye5f9s2e6aemPdKvfo42fYPybZzsjk1MGyeWv/p181hqQfupL7eNo60ee26tHm5U+rVyLG66Xn5WOrJf6zu5Pb3NdnyKN9Y3fSc/Nqcuq3mpJTymtQr9PPW+djUR5bePG+dR+blOxnf3rPzcvckG9o4PpJ6wpvMy/RxaXOSXUbqJuObPi7tuqiuHSvuuUJ7k+PSd+aML6kBr7SatDHcrh3zf2FmG56c5A6llOfMG+PsMSz1ivXCdUnd7z44Vjdy/Lr1nHWePX7dK8mNSinvbeP4rzlzsvucutk5+bHURxxv3Y7Nz8r4sfiX0s4VC9qczMuGJN+fUzc9L7suaG/6vPLosbqROXlWLVu4zo9Ie2R1tm5kTu6QepFwdtusdA5/WOqbp7F5mT6HT9fNzsu00bqRc/hY3dg5fLZudl+Z1++1czK1r0zq3pwt4W7S5h1mzvWL1vkRqW9St6lb4Vw/3d7svrJPW6+LU99MfzHJL2Tb88o/zqmbjG8yt6emPpV3x1b3/Gy7r9wqyZ3b+l8zp83p88q7U993jtVNn1cuW9De9HnlZnPqZs/190rd7+et8+Rc//qx9kbOKeelvued3TaTJxof3do8LDVw3KyUsqGUcpvW51HZdl85J8luI3XTY0zaI/+L6tq+sm+SGy+om+wrl6eeV8bqpveVeeuRbH38OjA14KXV/WzbVmP7ypdXWpf2/84aqxvZV3ZtdbdLckjqDYS9U+fujqn7wT6px7C9U1+Ld27LJxeNDkg9Zk7ed+6S+jqbrcswDBen3s1MW/fLUi9+XJ56sfCq1t4XWn/PT31tHpf6BMB7Uu/GTh4X/8nUC6v3Tn2fcWzqUwWPS71offGc8ZVssanVHJAalGe/v1AvwXVD6oa9W+pnK99aSinZekWTeuXugal33m6celVhzKK6Yab2+NQJ+m7q46C7px4Irk6SUspPtnaOTfLE1IPGLrN9z9a1A9ZNt7Puzamfk/v+grorsuWzbjeZU/e3qc+8/0LqFcKbj6zHh1OfU//eMAx3Sb0a9bupO82fpz5mdfxM37u0MS5al3u3vm+ZeuDcONL3B1IfD94tda42Jbl6GIafbOO9MjVwj83fVbN1U+ObvsjxPwvqrky9YvRHqXchxur2autxYOpVs++knoTvmnrV6TdS72pNHhldTd+vbm0+KPVqWhlZ5zen7rjfGYbhzq3fvVZYl4eknmzH+v1U6hW6r7c52TPJriP9viH1UcY9Uh+z2621N3kDdkqbu9k5OSr1ZHbN1PpPv272ypZ97umpj45v1ebIvJy9oG56Xh6UemCdrft86gnsu+37t1nQ3vScPCX1yY3ZdZ6dk59KfWMwb51vnrqvvG3BOs/Oy53mbO/ZefmP1CvUd079LMnebdyzx6Wvp14Z36pu5Lh0WepV0UV1b27baVHd5Lg0pD6KPlt3TupFw8kb8atSH5e/oNW9KfV1+MTUuwcvz5Zj2N3H+s62x7CPtflbtC4Pb/Myb12mj1+T1+Fsv7PHr2+0bf/I1DefX0+9Aj07J7uM1Y3MyYbUfXNTqzsy9Y3U5PX1Q63vF6deiNpzQZuTedmQ+pnK2brZecmC9qbPK7dK3Rdn13l2Tr4yVjcyJ+cu6Hd6Ti5OfZxzdtscl/nn8J/Plo/rLDqHb1W34By+qG76HD6vbvYcPls3Nifz+p2ek19IPR7vkXqsOjv1uPTrqcfLS1rt5Fy/0rpMLojOqxs7189u69l9ZbItb5l6XL5R6hMrs+eVg8bqRs71P5ctn629TZJnJvk/U2P8kdTXw9NSg8O8NqfPK/doy2brZs8rN1vQ3vR55XGp+9/sOs+eVyaf3Z63zpNz/Zfn9Dt7Tjkw9XU2u22OSH3t/WbbNp9uNd9PfXLrhalPCz0w2+4rH049xm9VN7KvvHWsvZF95a/bNp1XN9lXLm3tztbN7iuT92Jj7U3vK3tmy2eRX5h6jn1xxveVn1zFujw89Sm1eXXT+8r7Wx//mXp8/JckwzAMX0+9IH5Ka/eLbZ2el+RpwzBMLnIN2TYbldTX2mzdVoZh+P9a3wekXjSY/v+Tv49o6//m1OPTr061d5/Uc+cbUvfZQ9uf16YeK3afaW+RsfUYHfe2FSvckl3Gn2z7qPB70p4Zb19fkHp1ZPZR4clt6bunHgT/rX3/I9n6UeF5dds8Kjwzrh9LvXt2Quobp/NS70jdc6pm/za+SZtPTn1BblU3097kMaNt2puq25y646xUN+n3makHqJXqfmusLluuUE3qDmrr9b3Z9tryh6S+sZ7M39i2uWvqTjhp85fbuq80xt9Jsnlq2T+kXomanb/Z18M/JDlkqr1PZeZR4ZG6n0g9uD1jhbrp8f1B6mNXZ8+M709TX0ubUg9e38m2j/jNa/OFSS4eWef9WnuTumOz9Wt7tr3zUx+tHV2X9v/fNtXeM7L1IzfzxveV1HDxxdTX93+l/vC02Tn5QtueV07XTbV/39QTc1L3hStn2xyZl0V102PcNGeMf5p64P1e+/vq9ue6tjc7J59Ovco/b52fkC2fVRpdl5F5uWCVY3xZ2mfb29cfbvM8dlz6r9m6OcelsxfUTR+XFtVNH5e+NjK+J6S++fhetuwvH8uWfera9mbGeFzqSXGbvrPtMezax9LnjHHyhMHoumT8+PXNVazzm2b6fU7qBdjZOXl1tn5U+DlJfntkTh6eeifp7Nm69vWp2fKRiSenff5qXpvt36+fM8bZebkqWz8ePa+9N8xpb3ZOnpN6UXJee5M5GV2PkTn5w9TwOm/bzJ7Dz079PNvvTtWM7iuzdfP2lQV1W+0ri9qb3ldGxje2r3x7Fe0dl7qvXD7TXmn//w5tXf5fe2cXomdxxfHf++5HNnFbGo0xUUy2i4jYIqISBIXGC6GU3hVK8ardIkgNCqJtKIWEaqQf12JEtLS9qBT7YcUa0gWr9QO1qalZJcGPqEmMHzUXIupmN3m9+J/JnJ2deRIvTPfi/GHZfXf/e87MnDnnzMwzM8/51uZdZVzgK5UyVn3lFMr4DHY+0z7fb/9b5pX/YDHU85y8lOvvQouDMxXeiMlM27HLLZ+lzKR7Nwu3racylnlljoXb7z+vvDKv7MDGWA15KddX68HinDKNjm4sapuib9+Jztf6mPg0ysknyytPAxefQl4pea28skheI6+k8lV95RTkfR+XV5y8pq90yGzllSSz9JVrrP63ON5+YK2LT/usbh8Cv3cyF20VRv38I+y+Gs9z8k5sFbbfPYaeApdbhXcD91l97ka70O423ha0ddnHgTTXuhMthBxFE/0vdKvwaZ2wusKVBr4B+LnrCAesA13LwsuZ3kCrPyMoSP6YfOnS7Cnw/msy/RnX1fb9HBQQNpnxvm26v1Pw+mbEO6yMaRWxxvsdWvH8CN2y15L3Ilql6XfwvoSC0pR1tB0ocJa8EbRiM2U/72zw+shZfmWff4Sc5C1nF8/dAzxkn1tlPA8NWm6yz9vRQKim+49WxpVo73+6JGk9SgqrKvZ7tcFLbX0bSmZXkwNSyXsN2Gl/a/FWo9WmKbR6/RxaNZ0x3tvARYWdf4m2VbVkjqMB7hRaWd1DPmtalvFdLDigZPO/jjo/i54ytPReiSZCN6D++ig2Ya7ISzZZZ+2UznhsBba6/lXzqRnyeU9v5z+RL4OacGX0Mku7tHg1u7zZkJd8byPaGlqTV9pkl7NJKc/bZCsKsK067yefYWnVpbTLg+TL1krd3i77yecHJ9Eg/kwWx6UnXduUPB+X/IUzJc/HpRavjEs7XT1aeifQE7ZJa8NJtFByock427jXW7tsa+guY9gW8oJBTfcjaCt2qy5l/LqX7HulPB+/9qKnMCus/I+j7fe1XDHb4HmbrLR2ecl408B1Vo470JblHxaxuJTZyhdduidQLK7Jq+WVow153iY/I99wWtObbNKqR2mTX6NBX61tyhx+jbXjQbNfK4f/E40Zajxvl4kOed5XWrzSJg+jXNKldwI741rhlTZ5EN0kOgdMFjn3AbNZ2mH2SEddvF1adSntks7L1eR5X3kXLVD2UMzdh2xf5hV/j4Tnlbn+J9amM8Z7GcX8nvFeBqasLL9Ai/ilzDKvHCCfd6zpTnnl1Ya8Mq8ctLrV5Pm88i/y3QY1vSnXt+pR5pRd5CNfJ9qm8JVbUfzaALxkf7sWeKbhK4+T80rJ875yUYc87ystXukrfyePW1p6J9CEqyav9JW/oDw7Y7wnaPvKjo66eF9p1eWEr1gb7gFecLwnUFzbjPriZnR/wREU3x4lX2p0mHz50RHjPYAm29Mlz3RsRveQ7LDPy1EOuc/a+HvkC6TuQf3kkLXXb9GC6/Nogn0ZGvMtQ4u9b5EfZH0D9fOyfCvRONOXL03iz0T5YqV97cfOdXd9pQPspw29Xu8PyOlXIafdgmbm9wOXomR4Kxq0bESGHCDn+Ss6ewdKTJeSzzqsOAlvCDnU1+znAXLy7eg23TWm+z0UFFIAmkON3keDjmPIgFeggX+6lKjGO0J+LD9ARit5PTTZ3ku+Or1f4aU6vm96lzf0HkdO/95JeMdQR/o62tr1VasvjnsPdpaJfBvZFjSpb7XN66Z3rXGGGrx5k3secpoV5HMl/0BbK7z90na3sQZvHnX8tP2hV+GNoRW0PfY9bX8ueaPk6/b7aGveGtM/h7amvYK2QoEFBXRBxRnkV914mSNWx3eQo4921OVJ1P8uMHnDDd7fUCJ7DJ2rqukF9YVV5NfhjDR4y1HgWYv60ZetDXah/ntxYZPkU6tN/ifWDk9Z26yx9ltm+o5afUqZpV3Stf7vFDxvl3Wmf6xRxj+jJ/nT2PnMCq+0Sb9DXrLJKAq26WKMss495PNrUGzZSI51pUxvl1ErT43n7TJM9r3DaMVzo/F8XEqvw6nxWnHJ84ZZGJdKX0m8IRbGpWUdepNN1qOJxyi5b29HixebUB/40GSmc3FfachMMewSFvtKqfu7KClf1SHPx6/SVzzPx68UcwfIpnvJWx29TZIv1HjJJueSB6/p9WTTqI/djGzyARoMrzfeeEVmaZfhDt3JLg+h7Wa9Cq/HwrzSJc/bZLlxj1d43iaXowWLmrxkkznkc+MoNvm2SfHG5/BJk3kMLcyOk2N2zS41nveV42Rf8bzSV8ZN5nzBa9mkprdmk5LnbTJk8lahPPg2ytW+jMNozJPOmZ5VkdmyS43nfWXM5Nd43lcGyHbHrB2eR6/ZgMVjujMavJTr0/m/YeSn82hC8hR6Qne+/W86rw7KkaXMWl5p6S7zymiFV8srLXk+14815MHCXH81smGNl3LKPOobq8lxJLXNjahPf4wmKB8gfz3beK+gxYbrTKb3lSFrqxqv9JV+hVfzleEKr/SVkQ693le+Zf9b8kpfGXP1mUVbqGep+0rK9S3dyVc2dLRh8pURtD35KPKFOfQU+2HjbyAvFqxDY6K1yGcOo7d//NT+Nof687koH4w1eCmupr7fszJ+isYvh1A+PGw2SXFh1Lj70NnZN9E45Bzy6/FmzS4HzVa3I99L5RtDfWEb6kPfRP3uB4PB4N8AvV5vysoKsG0wGPyGk+C0T1wDgUAgEAgEAoFAIBD4POj/vwsQCAQCgUAgEAgEAoFAF2LiGggEAoFAIBAIBAKBJY2YuAYCgUAgEAgEAoFAYEkjJq6BQCAQCAQCgUAgEFjSiIlrIBAIBAKBQCAQCASWNGLiGggEAoFAIBAIBAKBJY2YuAYCgUAgEAgEAoFAYEnjM1LTo2VqFk1EAAAAAElFTkSuQmCC\n",
      "text/plain": [
       "<Figure size 1152x864 with 1 Axes>"
      ]
     },
     "metadata": {
      "needs_background": "light"
     },
     "output_type": "display_data"
    }
   ],
   "source": [
    "x_values = df['SortedYear'].unique()\n",
    "y_values = (df['SortedYear'].value_counts()/df['id'].count())*100\n",
    "fig_dims = (16, 12)\n",
    "fig, ax = plt.subplots(figsize=fig_dims)\n",
    "sns.barplot(x_values, y_values, ax=ax, data=df)"
   ]
  },
  {
   "cell_type": "code",
   "execution_count": null,
   "metadata": {},
   "outputs": [],
   "source": []
  }
 ],
 "metadata": {
  "kernelspec": {
   "display_name": "Python 3",
   "language": "python",
   "name": "python3"
  },
  "language_info": {
   "codemirror_mode": {
    "name": "ipython",
    "version": 3
   },
   "file_extension": ".py",
   "mimetype": "text/x-python",
   "name": "python",
   "nbconvert_exporter": "python",
   "pygments_lexer": "ipython3",
   "version": "3.7.6"
  }
 },
 "nbformat": 4,
 "nbformat_minor": 4
}

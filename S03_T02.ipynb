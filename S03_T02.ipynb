{
 "cells": [
  {
   "cell_type": "markdown",
   "metadata": {},
   "source": [
    "# Nivell 1\n",
    "## - Exercici 1\n",
    "\n",
    "Realitza la pràctica del notebook a GitHub ***\"03 EXAMINING DATA\"*** amb seaborn i el dataset \"tips\".\n"
   ]
  },
  {
   "cell_type": "code",
   "execution_count": 2,
   "metadata": {
    "collapsed": false,
    "jupyter": {
     "outputs_hidden": false
    }
   },
   "outputs": [
    {
     "data": {
      "text/html": [
       "<div>\n",
       "<style scoped>\n",
       "    .dataframe tbody tr th:only-of-type {\n",
       "        vertical-align: middle;\n",
       "    }\n",
       "\n",
       "    .dataframe tbody tr th {\n",
       "        vertical-align: top;\n",
       "    }\n",
       "\n",
       "    .dataframe thead th {\n",
       "        text-align: right;\n",
       "    }\n",
       "</style>\n",
       "<table border=\"1\" class=\"dataframe\">\n",
       "  <thead>\n",
       "    <tr style=\"text-align: right;\">\n",
       "      <th></th>\n",
       "      <th>total_bill</th>\n",
       "      <th>tip</th>\n",
       "      <th>sex</th>\n",
       "      <th>smoker</th>\n",
       "      <th>day</th>\n",
       "      <th>time</th>\n",
       "      <th>size</th>\n",
       "    </tr>\n",
       "  </thead>\n",
       "  <tbody>\n",
       "    <tr>\n",
       "      <th>0</th>\n",
       "      <td>16.99</td>\n",
       "      <td>1.01</td>\n",
       "      <td>Female</td>\n",
       "      <td>No</td>\n",
       "      <td>Sun</td>\n",
       "      <td>Dinner</td>\n",
       "      <td>2</td>\n",
       "    </tr>\n",
       "    <tr>\n",
       "      <th>1</th>\n",
       "      <td>10.34</td>\n",
       "      <td>1.66</td>\n",
       "      <td>Male</td>\n",
       "      <td>No</td>\n",
       "      <td>Sun</td>\n",
       "      <td>Dinner</td>\n",
       "      <td>3</td>\n",
       "    </tr>\n",
       "    <tr>\n",
       "      <th>2</th>\n",
       "      <td>21.01</td>\n",
       "      <td>3.50</td>\n",
       "      <td>Male</td>\n",
       "      <td>No</td>\n",
       "      <td>Sun</td>\n",
       "      <td>Dinner</td>\n",
       "      <td>3</td>\n",
       "    </tr>\n",
       "    <tr>\n",
       "      <th>3</th>\n",
       "      <td>23.68</td>\n",
       "      <td>3.31</td>\n",
       "      <td>Male</td>\n",
       "      <td>No</td>\n",
       "      <td>Sun</td>\n",
       "      <td>Dinner</td>\n",
       "      <td>2</td>\n",
       "    </tr>\n",
       "    <tr>\n",
       "      <th>4</th>\n",
       "      <td>24.59</td>\n",
       "      <td>3.61</td>\n",
       "      <td>Female</td>\n",
       "      <td>No</td>\n",
       "      <td>Sun</td>\n",
       "      <td>Dinner</td>\n",
       "      <td>4</td>\n",
       "    </tr>\n",
       "  </tbody>\n",
       "</table>\n",
       "</div>"
      ],
      "text/plain": [
       "   total_bill   tip     sex smoker  day    time  size\n",
       "0       16.99  1.01  Female     No  Sun  Dinner     2\n",
       "1       10.34  1.66    Male     No  Sun  Dinner     3\n",
       "2       21.01  3.50    Male     No  Sun  Dinner     3\n",
       "3       23.68  3.31    Male     No  Sun  Dinner     2\n",
       "4       24.59  3.61  Female     No  Sun  Dinner     4"
      ]
     },
     "execution_count": 2,
     "metadata": {},
     "output_type": "execute_result"
    }
   ],
   "source": [
    "import numpy as np\n",
    "import pandas as pd\n",
    "import matplotlib.pyplot as plt\n",
    "import seaborn as sns\n",
    "import warnings\n",
    "\n",
    "tips = pd.read_csv('tips.csv', sep = ',', encoding = 'utf-8')\n",
    "tips.head()"
   ]
  },
  {
   "cell_type": "code",
   "execution_count": 5,
   "metadata": {
    "collapsed": false,
    "jupyter": {
     "outputs_hidden": false
    }
   },
   "outputs": [
    {
     "data": {
      "text/plain": [
       "(244, 7)"
      ]
     },
     "execution_count": 5,
     "metadata": {},
     "output_type": "execute_result"
    }
   ],
   "source": [
    "tips.shape"
   ]
  },
  {
   "cell_type": "code",
   "execution_count": 6,
   "metadata": {
    "collapsed": false,
    "jupyter": {
     "outputs_hidden": false
    }
   },
   "outputs": [
    {
     "data": {
      "text/plain": [
       "2"
      ]
     },
     "execution_count": 6,
     "metadata": {},
     "output_type": "execute_result"
    }
   ],
   "source": [
    "tips.ndim"
   ]
  },
  {
   "cell_type": "code",
   "execution_count": 7,
   "metadata": {
    "collapsed": false,
    "jupyter": {
     "outputs_hidden": false
    }
   },
   "outputs": [
    {
     "data": {
      "text/plain": [
       "Index(['total_bill', 'tip', 'sex', 'smoker', 'day', 'time', 'size'], dtype='object')"
      ]
     },
     "execution_count": 7,
     "metadata": {},
     "output_type": "execute_result"
    }
   ],
   "source": [
    "tips.columns"
   ]
  },
  {
   "cell_type": "code",
   "execution_count": 8,
   "metadata": {
    "collapsed": false,
    "jupyter": {
     "outputs_hidden": false
    }
   },
   "outputs": [
    {
     "data": {
      "text/plain": [
       "total_bill    float64\n",
       "tip           float64\n",
       "sex            object\n",
       "smoker         object\n",
       "day            object\n",
       "time           object\n",
       "size            int64\n",
       "dtype: object"
      ]
     },
     "execution_count": 8,
     "metadata": {},
     "output_type": "execute_result"
    }
   ],
   "source": [
    "tips.dtypes"
   ]
  },
  {
   "cell_type": "code",
   "execution_count": 3,
   "metadata": {
    "collapsed": false,
    "jupyter": {
     "outputs_hidden": false
    }
   },
   "outputs": [
    {
     "data": {
      "text/html": [
       "<div>\n",
       "<table border=\"1\" class=\"dataframe\">\n",
       "  <thead>\n",
       "    <tr style=\"text-align: right;\">\n",
       "      <th></th>\n",
       "      <th>total_bill</th>\n",
       "      <th>tip</th>\n",
       "      <th>sex</th>\n",
       "      <th>smoker</th>\n",
       "      <th>day</th>\n",
       "      <th>time</th>\n",
       "      <th>size</th>\n",
       "      <th>tip_pct</th>\n",
       "    </tr>\n",
       "  </thead>\n",
       "  <tbody>\n",
       "    <tr>\n",
       "      <th>0</th>\n",
       "      <td>16.99</td>\n",
       "      <td>1.01</td>\n",
       "      <td>Female</td>\n",
       "      <td>No</td>\n",
       "      <td>Sun</td>\n",
       "      <td>Dinner</td>\n",
       "      <td>2</td>\n",
       "      <td>6.32</td>\n",
       "    </tr>\n",
       "    <tr>\n",
       "      <th>1</th>\n",
       "      <td>10.34</td>\n",
       "      <td>1.66</td>\n",
       "      <td>Male</td>\n",
       "      <td>No</td>\n",
       "      <td>Sun</td>\n",
       "      <td>Dinner</td>\n",
       "      <td>3</td>\n",
       "      <td>19.12</td>\n",
       "    </tr>\n",
       "    <tr>\n",
       "      <th>2</th>\n",
       "      <td>21.01</td>\n",
       "      <td>3.50</td>\n",
       "      <td>Male</td>\n",
       "      <td>No</td>\n",
       "      <td>Sun</td>\n",
       "      <td>Dinner</td>\n",
       "      <td>3</td>\n",
       "      <td>19.99</td>\n",
       "    </tr>\n",
       "    <tr>\n",
       "      <th>3</th>\n",
       "      <td>23.68</td>\n",
       "      <td>3.31</td>\n",
       "      <td>Male</td>\n",
       "      <td>No</td>\n",
       "      <td>Sun</td>\n",
       "      <td>Dinner</td>\n",
       "      <td>2</td>\n",
       "      <td>16.25</td>\n",
       "    </tr>\n",
       "    <tr>\n",
       "      <th>4</th>\n",
       "      <td>24.59</td>\n",
       "      <td>3.61</td>\n",
       "      <td>Female</td>\n",
       "      <td>No</td>\n",
       "      <td>Sun</td>\n",
       "      <td>Dinner</td>\n",
       "      <td>4</td>\n",
       "      <td>17.21</td>\n",
       "    </tr>\n",
       "  </tbody>\n",
       "</table>\n",
       "</div>"
      ],
      "text/plain": [
       "   total_bill   tip     sex smoker  day    time  size  tip_pct\n",
       "0       16.99  1.01  Female     No  Sun  Dinner     2     6.32\n",
       "1       10.34  1.66    Male     No  Sun  Dinner     3    19.12\n",
       "2       21.01  3.50    Male     No  Sun  Dinner     3    19.99\n",
       "3       23.68  3.31    Male     No  Sun  Dinner     2    16.25\n",
       "4       24.59  3.61  Female     No  Sun  Dinner     4    17.21"
      ]
     },
     "execution_count": 3,
     "metadata": {},
     "output_type": "execute_result"
    }
   ],
   "source": [
    "tips['tip_pct'] = round((tips['tip'] / (tips['total_bill'] - tips['tip']))*100, 2)\n",
    "tips.head()"
   ]
  },
  {
   "cell_type": "code",
   "execution_count": null,
   "metadata": {
    "collapsed": true,
    "jupyter": {
     "outputs_hidden": true
    }
   },
   "outputs": [],
   "source": [
    "sns.barplot(x='tip_pct', y='day', data=tips, orient=\"h\")\n",
    "plt.show()"
   ]
  },
  {
   "cell_type": "code",
   "execution_count": null,
   "metadata": {
    "collapsed": false,
    "jupyter": {
     "outputs_hidden": false
    }
   },
   "outputs": [],
   "source": [
    "sns.barplot(x='tip_pct', y='day', hue='time', data=tips, orient='h')\n",
    "plt.show()\n",
    "sns.set(style=\"darkgrid\")"
   ]
  },
  {
   "cell_type": "code",
   "execution_count": null,
   "metadata": {
    "collapsed": true,
    "jupyter": {
     "outputs_hidden": true
    }
   },
   "outputs": [],
   "source": [
    "tips.describe()"
   ]
  },
  {
   "cell_type": "code",
   "execution_count": 13,
   "metadata": {
    "collapsed": false,
    "jupyter": {
     "outputs_hidden": false
    }
   },
   "outputs": [
    {
     "data": {
      "text/html": [
       "<div>\n",
       "<style scoped>\n",
       "    .dataframe tbody tr th:only-of-type {\n",
       "        vertical-align: middle;\n",
       "    }\n",
       "\n",
       "    .dataframe tbody tr th {\n",
       "        vertical-align: top;\n",
       "    }\n",
       "\n",
       "    .dataframe thead th {\n",
       "        text-align: right;\n",
       "    }\n",
       "</style>\n",
       "<table border=\"1\" class=\"dataframe\">\n",
       "  <thead>\n",
       "    <tr style=\"text-align: right;\">\n",
       "      <th></th>\n",
       "      <th>total_bill</th>\n",
       "      <th>tip</th>\n",
       "      <th>sex</th>\n",
       "      <th>smoker</th>\n",
       "      <th>day</th>\n",
       "      <th>time</th>\n",
       "      <th>size</th>\n",
       "      <th>tip_pct</th>\n",
       "    </tr>\n",
       "  </thead>\n",
       "  <tbody>\n",
       "    <tr>\n",
       "      <th>count</th>\n",
       "      <td>244.000</td>\n",
       "      <td>244.000</td>\n",
       "      <td>244</td>\n",
       "      <td>244</td>\n",
       "      <td>244</td>\n",
       "      <td>244</td>\n",
       "      <td>244.000</td>\n",
       "      <td>244.000</td>\n",
       "    </tr>\n",
       "    <tr>\n",
       "      <th>unique</th>\n",
       "      <td>NaN</td>\n",
       "      <td>NaN</td>\n",
       "      <td>2</td>\n",
       "      <td>2</td>\n",
       "      <td>4</td>\n",
       "      <td>2</td>\n",
       "      <td>NaN</td>\n",
       "      <td>NaN</td>\n",
       "    </tr>\n",
       "    <tr>\n",
       "      <th>top</th>\n",
       "      <td>NaN</td>\n",
       "      <td>NaN</td>\n",
       "      <td>Male</td>\n",
       "      <td>No</td>\n",
       "      <td>Sat</td>\n",
       "      <td>Dinner</td>\n",
       "      <td>NaN</td>\n",
       "      <td>NaN</td>\n",
       "    </tr>\n",
       "    <tr>\n",
       "      <th>freq</th>\n",
       "      <td>NaN</td>\n",
       "      <td>NaN</td>\n",
       "      <td>157</td>\n",
       "      <td>151</td>\n",
       "      <td>87</td>\n",
       "      <td>176</td>\n",
       "      <td>NaN</td>\n",
       "      <td>NaN</td>\n",
       "    </tr>\n",
       "    <tr>\n",
       "      <th>mean</th>\n",
       "      <td>19.786</td>\n",
       "      <td>2.998</td>\n",
       "      <td>NaN</td>\n",
       "      <td>NaN</td>\n",
       "      <td>NaN</td>\n",
       "      <td>NaN</td>\n",
       "      <td>2.570</td>\n",
       "      <td>20.212</td>\n",
       "    </tr>\n",
       "    <tr>\n",
       "      <th>std</th>\n",
       "      <td>8.902</td>\n",
       "      <td>1.384</td>\n",
       "      <td>NaN</td>\n",
       "      <td>NaN</td>\n",
       "      <td>NaN</td>\n",
       "      <td>NaN</td>\n",
       "      <td>0.951</td>\n",
       "      <td>16.339</td>\n",
       "    </tr>\n",
       "    <tr>\n",
       "      <th>min</th>\n",
       "      <td>3.070</td>\n",
       "      <td>1.000</td>\n",
       "      <td>NaN</td>\n",
       "      <td>NaN</td>\n",
       "      <td>NaN</td>\n",
       "      <td>NaN</td>\n",
       "      <td>1.000</td>\n",
       "      <td>3.700</td>\n",
       "    </tr>\n",
       "    <tr>\n",
       "      <th>25%</th>\n",
       "      <td>13.348</td>\n",
       "      <td>2.000</td>\n",
       "      <td>NaN</td>\n",
       "      <td>NaN</td>\n",
       "      <td>NaN</td>\n",
       "      <td>NaN</td>\n",
       "      <td>2.000</td>\n",
       "      <td>14.830</td>\n",
       "    </tr>\n",
       "    <tr>\n",
       "      <th>50%</th>\n",
       "      <td>17.795</td>\n",
       "      <td>2.900</td>\n",
       "      <td>NaN</td>\n",
       "      <td>NaN</td>\n",
       "      <td>NaN</td>\n",
       "      <td>NaN</td>\n",
       "      <td>2.000</td>\n",
       "      <td>18.310</td>\n",
       "    </tr>\n",
       "    <tr>\n",
       "      <th>75%</th>\n",
       "      <td>24.127</td>\n",
       "      <td>3.562</td>\n",
       "      <td>NaN</td>\n",
       "      <td>NaN</td>\n",
       "      <td>NaN</td>\n",
       "      <td>NaN</td>\n",
       "      <td>3.000</td>\n",
       "      <td>23.682</td>\n",
       "    </tr>\n",
       "    <tr>\n",
       "      <th>max</th>\n",
       "      <td>50.810</td>\n",
       "      <td>10.000</td>\n",
       "      <td>NaN</td>\n",
       "      <td>NaN</td>\n",
       "      <td>NaN</td>\n",
       "      <td>NaN</td>\n",
       "      <td>6.000</td>\n",
       "      <td>245.240</td>\n",
       "    </tr>\n",
       "  </tbody>\n",
       "</table>\n",
       "</div>"
      ],
      "text/plain": [
       "        total_bill      tip   sex smoker  day    time     size  tip_pct\n",
       "count      244.000  244.000   244    244  244     244  244.000  244.000\n",
       "unique         NaN      NaN     2      2    4       2      NaN      NaN\n",
       "top            NaN      NaN  Male     No  Sat  Dinner      NaN      NaN\n",
       "freq           NaN      NaN   157    151   87     176      NaN      NaN\n",
       "mean        19.786    2.998   NaN    NaN  NaN     NaN    2.570   20.212\n",
       "std          8.902    1.384   NaN    NaN  NaN     NaN    0.951   16.339\n",
       "min          3.070    1.000   NaN    NaN  NaN     NaN    1.000    3.700\n",
       "25%         13.348    2.000   NaN    NaN  NaN     NaN    2.000   14.830\n",
       "50%         17.795    2.900   NaN    NaN  NaN     NaN    2.000   18.310\n",
       "75%         24.127    3.562   NaN    NaN  NaN     NaN    3.000   23.682\n",
       "max         50.810   10.000   NaN    NaN  NaN     NaN    6.000  245.240"
      ]
     },
     "execution_count": 13,
     "metadata": {},
     "output_type": "execute_result"
    }
   ],
   "source": [
    "round(tips.describe(include='all'), 3)"
   ]
  },
  {
   "cell_type": "code",
   "execution_count": 14,
   "metadata": {
    "collapsed": false,
    "jupyter": {
     "outputs_hidden": false
    }
   },
   "outputs": [
    {
     "data": {
      "text/plain": [
       "total_bill    0.0\n",
       "tip           0.0\n",
       "sex           0.0\n",
       "smoker        0.0\n",
       "day           0.0\n",
       "time          0.0\n",
       "size          0.0\n",
       "tip_pct       0.0\n",
       "dtype: float64"
      ]
     },
     "execution_count": 14,
     "metadata": {},
     "output_type": "execute_result"
    }
   ],
   "source": [
    "tips.isnull().sum()/len(tips)"
   ]
  },
  {
   "cell_type": "code",
   "execution_count": 15,
   "metadata": {
    "collapsed": false,
    "jupyter": {
     "outputs_hidden": false
    }
   },
   "outputs": [
    {
     "data": {
      "text/plain": [
       "count    244.000\n",
       "mean       2.998\n",
       "std        1.384\n",
       "min        1.000\n",
       "25%        2.000\n",
       "50%        2.900\n",
       "75%        3.562\n",
       "max       10.000\n",
       "Name: tip, dtype: float64"
      ]
     },
     "execution_count": 15,
     "metadata": {},
     "output_type": "execute_result"
    }
   ],
   "source": [
    "round((tips['tip']).describe(), 3)"
   ]
  },
  {
   "cell_type": "code",
   "execution_count": 19,
   "metadata": {
    "collapsed": false,
    "jupyter": {
     "outputs_hidden": false
    }
   },
   "outputs": [
    {
     "data": {
      "text/plain": [
       "2.9"
      ]
     },
     "execution_count": 19,
     "metadata": {},
     "output_type": "execute_result"
    }
   ],
   "source": [
    "(tips['tip']).median()"
   ]
  },
  {
   "cell_type": "code",
   "execution_count": 17,
   "metadata": {
    "collapsed": false,
    "jupyter": {
     "outputs_hidden": false
    }
   },
   "outputs": [
    {
     "data": {
      "image/png": "[encoded data removed]",
      "text/plain": [
       "<Figure size 432x288 with 1 Axes>"
      ]
     },
     "metadata": {},
     "output_type": "display_data"
    }
   ],
   "source": [
    "sns.set(style=\"whitegrid\")\n",
    "ax = sns.boxplot(x = tips['tip'], color='lightblue', fliersize=5, orient='v', linewidth=1, width=0.3)"
   ]
  },
  {
   "cell_type": "code",
   "execution_count": 18,
   "metadata": {
    "collapsed": false,
    "jupyter": {
     "outputs_hidden": false
    },
    "scrolled": true
   },
   "outputs": [
    {
     "data": {
      "image/png": "[encoded data removed]",
      "text/plain": [
       "<Figure size 432x288 with 1 Axes>"
      ]
     },
     "metadata": {},
     "output_type": "display_data"
    }
   ],
   "source": [
    "ax = sns.boxplot(y=\"tip\", data=tips,  color='lightblue', fliersize=5,  orient='v', linewidth=1 , width=0.3)\n",
    "ax = sns.stripplot(y=tips[\"tip\"], orient='v', color='darkblue', alpha= 0.5)"
   ]
  },
  {
   "cell_type": "markdown",
   "metadata": {},
   "source": [
    "<span style=color:blue><font size=4><b><u>Una Variable</u></b>: 1 Numérica = 'tip_pct'</font></span>"
   ]
  },
  {
   "cell_type": "code",
   "execution_count": 20,
   "metadata": {
    "collapsed": false,
    "jupyter": {
     "outputs_hidden": false
    }
   },
   "outputs": [
    {
     "data": {
      "text/plain": [
       "total_bill    float64\n",
       "tip           float64\n",
       "sex            object\n",
       "smoker         object\n",
       "day            object\n",
       "time           object\n",
       "size            int64\n",
       "tip_pct       float64\n",
       "dtype: object"
      ]
     },
     "execution_count": 20,
     "metadata": {},
     "output_type": "execute_result"
    }
   ],
   "source": [
    "tips.dtypes"
   ]
  },
  {
   "cell_type": "code",
   "execution_count": 21,
   "metadata": {
    "collapsed": false,
    "jupyter": {
     "outputs_hidden": false
    }
   },
   "outputs": [
    {
     "data": {
      "image/png": "[encoded data removed]",
      "text/plain": [
       "<Figure size 432x288 with 1 Axes>"
      ]
     },
     "metadata": {},
     "output_type": "display_data"
    }
   ],
   "source": [
    "sns.boxplot(y=\"tip_pct\", data=tips[tips.tip < 10],  color='lightblue', fliersize=5,  orient='v', linewidth=1 , width=0.3);"
   ]
  },
  {
   "cell_type": "markdown",
   "metadata": {},
   "source": [
    "<span style=color:blue><font size=4><b><u>Dos Variables</u></b>: 1 Categórica = 'day', 1 Numérica = 'tip_pct'</font></span>"
   ]
  },
  {
   "cell_type": "code",
   "execution_count": 22,
   "metadata": {
    "collapsed": false,
    "jupyter": {
     "outputs_hidden": false
    }
   },
   "outputs": [
    {
     "data": {
      "image/png": "[encoded data removed]",
      "text/plain": [
       "<Figure size 360x360 with 1 Axes>"
      ]
     },
     "metadata": {},
     "output_type": "display_data"
    }
   ],
   "source": [
    "ax = sns.catplot(x='day', y='tip_pct', kind='box',\n",
    "                 data=tips[tips.tip_pct < 245]);"
   ]
  },
  {
   "cell_type": "code",
   "execution_count": 23,
   "metadata": {
    "collapsed": false,
    "jupyter": {
     "outputs_hidden": false
    }
   },
   "outputs": [
    {
     "data": {
      "image/png": "[encoded data removed]",
      "text/plain": [
       "<Figure size 360x360 with 1 Axes>"
      ]
     },
     "metadata": {},
     "output_type": "display_data"
    }
   ],
   "source": [
    "ax = sns.catplot(x='day', y='tip_pct', kind='box',\n",
    "                 data=tips[tips.tip_pct < 245]);\n",
    "\n",
    "ax = sns.stripplot(x='day', y='tip_pct', data=tips[tips.tip_pct < 245], orient='v', color='darkblue', alpha= 0.4);"
   ]
  },
  {
   "cell_type": "markdown",
   "metadata": {},
   "source": [
    "<span style=color:blue><font size=4><b><u>Tres Variables</u></b> : 2 Categóricas = ('day', 'time'), 1 Numérica = 'tip_pct'</font></span>"
   ]
  },
  {
   "cell_type": "code",
   "execution_count": 24,
   "metadata": {
    "collapsed": false,
    "jupyter": {
     "outputs_hidden": false
    }
   },
   "outputs": [
    {
     "data": {
      "image/png": "[encoded data removed]",
      "text/plain": [
       "<Figure size 432x288 with 1 Axes>"
      ]
     },
     "metadata": {},
     "output_type": "display_data"
    }
   ],
   "source": [
    "sns.boxplot(x='day', y='tip_pct', hue='time', \n",
    "               data=tips[tips.tip_pct < 245]);"
   ]
  },
  {
   "cell_type": "code",
   "execution_count": 25,
   "metadata": {
    "collapsed": false,
    "jupyter": {
     "outputs_hidden": false
    }
   },
   "outputs": [
    {
     "data": {
      "image/png": "[encoded data removed]",
      "text/plain": [
       "<Figure size 432x288 with 1 Axes>"
      ]
     },
     "metadata": {},
     "output_type": "display_data"
    }
   ],
   "source": [
    "sns.boxplot(x='day', y='tip_pct', hue = 'time',\n",
    "               data=tips[tips.tip_pct < 245]);\n",
    "ax = sns.stripplot(x='day', y='tip_pct', hue='time', data=tips[tips.tip_pct < 245], orient='v', color='darkblue', alpha= 0.4);"
   ]
  },
  {
   "cell_type": "code",
   "execution_count": null,
   "metadata": {},
   "outputs": [],
   "source": [
    "<span style=color:blue><font size=4><b><u>Cuatro Variables</u></b> : 3 Categoricas = ('day', 'time', 'smoker'), 1 Numérica = 'tip_pct'</font></span>"
   ]
  },
  {
   "cell_type": "code",
   "execution_count": 27,
   "metadata": {
    "collapsed": false,
    "jupyter": {
     "outputs_hidden": false
    }
   },
   "outputs": [
    {
     "data": {
      "image/png": "[encoded data removed]",
      "text/plain": [
       "<Figure size 792.225x360 with 2 Axes>"
      ]
     },
     "metadata": {},
     "output_type": "display_data"
    }
   ],
   "source": [
    "sns.catplot(x='day', y='tip_pct', hue='time', col='smoker',\n",
    "               kind='box', data=tips[tips.tip_pct < 245]);"
   ]
  },
  {
   "cell_type": "markdown",
   "metadata": {},
   "source": [
    "# Nivell 2\n",
    "## - Exercici 2\n",
    "\n",
    "Repeteix l'exercici 1 amb el dataset que disposem en el repositori de GitHub ***PRE-PROCESSING-DATA***, movies.dat"
   ]
  },
  {
   "cell_type": "code",
   "execution_count": 105,
   "metadata": {
    "collapsed": false,
    "jupyter": {
     "outputs_hidden": false
    }
   },
   "outputs": [
    {
     "name": "stderr",
     "output_type": "stream",
     "text": [
      "/tmp/ipykernel_9138/3578464138.py:30: SettingWithCopyWarning: \n",
      "A value is trying to be set on a copy of a slice from a DataFrame.\n",
      "Try using .loc[row_indexer,col_indexer] = value instead\n",
      "\n",
      "See the caveats in the documentation: https://pandas.pydata.org/pandas-docs/stable/user_guide/indexing.html#returning-a-view-versus-a-copy\n",
      "  df_clean['Year'] = df_clean['Nom'].str.extract(pat = '([0-9]{4})')\n"
     ]
    }
   ],
   "source": [
    "import re\n",
    "import pandas as pd\n",
    "pd.set_option('display.max_rows', None)\n",
    "df = pd.read_csv('movies.dat', sep=\"::\", engine='python', names=['id','Nom', 'Categoria'])\n",
    "\n",
    "#print(df)\n",
    "df['MovieName'] = df['Nom'].str.extract(pat = '(^[A-Za-z\\s]*)') \n",
    "df['Year'] = df['Nom'].str.extract(pat = '([0-9]{4})') \n",
    "#categoria = df['Categoria'].str.split(pat = '|', expand = True)\n",
    "\n",
    "#for x in categoria:\n",
    "#    df['Category']=categoria[0]\n",
    "    \n",
    "\"\"\"organitzem els anys en funció del número de repeticions \n",
    "i fem el percentatge de cada any sobre el total\"\"\"\n",
    "\n",
    "#df2 = df.sort_values(by=\"Year\")\n",
    "#any = df2['Year'].unique()\n",
    "#percentatge = (df2['Year'].value_counts()[df2['Year'].unique()]/df2['id'].count())*100 \n",
    "\n",
    "yearsum =  df['Year'].value_counts()[df['Year']]\n",
    "#print(yearsum)\n",
    "\n",
    "n = np.where(yearsum > 1)\n",
    "#print(n)\n",
    "\n",
    "df_clean = df.iloc[n]\n",
    "#print(df_clean)\n",
    "\n",
    "df_clean['Year'] = df_clean['Nom'].str.extract(pat = '([0-9]{4})') \n",
    "df_clean_sort = df_clean.sort_values(by=\"Year\")\n",
    "any = df_clean_sort['Year'].unique()\n",
    "#print(any)\n",
    "percentatge = (df_clean_sort['Year'].value_counts()[df_clean_sort['Year'].unique()]/df_clean_sort['id'].count())*100\n",
    "#print(percentatge)\n",
    "categoria = df_clean_sort['Categoria'].str.split(pat = '|', expand = True)\n",
    "\"\"\"for x in categoria:\n",
    "    df_clean_sort['Category1']=categoria[0]\n",
    "    df_clean_sort['Category2']=categoria[1]\n",
    "    df_clean_sort['Category3']=categoria[2]\n",
    "    df_clean_sort['Category4']=categoria[3]\n",
    "    df_clean_sort['Category5']=categoria[4] \"\"\"\n",
    "    \n",
    "\"\"\"if categoria[0]==\"Comedy\":\n",
    "        df_clean_sort['Comedy']= True\n",
    "    else:\n",
    "        df_clean_sort['Comedy']= False\"\"\"\n",
    "#https://datatofish.com/if-condition-in-pandas-dataframe/\n",
    "for x in categoria:\n",
    "    df_clean_sort['Category1']=categoria[0]\n",
    "    df_clean_sort['Category2']=categoria[1]\n",
    "    df_clean_sort['Category3']=categoria[2]\n",
    "    df_clean_sort['Category4']=categoria[3]\n",
    "   \n",
    "    df_clean_sort.loc[df_clean_sort['Category1'] ==\"Comedy\", 'Comedy'] = 1\n",
    "    \n",
    "    df_clean_sort.loc[df_clean_sort['Category2'] ==\"Comedy\", 'Comedy'] = 1\n",
    "    df_clean_sort.loc[df_clean_sort['Category3'] ==\"Comedy\", 'Comedy'] = 1\n",
    "    df_clean_sort.loc[df_clean_sort['Category4'] ==\"Comedy\", 'Comedy'] = 1\n",
    "    df_clean_sort.loc[df_clean_sort['Category1'] ==\"Drama\", 'Drama'] = 1\n",
    "    df_clean_sort.loc[df_clean_sort['Category2'] ==\"Drama\", 'Drama'] = 1\n",
    "    df_clean_sort.loc[df_clean_sort['Category3'] ==\"Drama\", 'Drama'] = 1\n",
    "    df_clean_sort.loc[df_clean_sort['Category4'] ==\"Drama\", 'Drama'] = 1\n",
    "    df_clean_sort.loc[df_clean_sort['Category1'] ==\"Adventure\", 'Adventure'] = 1\n",
    "    df_clean_sort.loc[df_clean_sort['Category2'] ==\"Adventure\", 'Adventure'] = 1\n",
    "    df_clean_sort.loc[df_clean_sort['Category3'] ==\"Adventure\", 'Adventure'] = 1\n",
    "    df_clean_sort.loc[df_clean_sort['Category4'] ==\"Adventure\", 'Adventure'] = 1\n",
    "    df_clean_sort.loc[df_clean_sort['Category1'] ==\"Action\", 'Action'] = 1\n",
    "    df_clean_sort.loc[df_clean_sort['Category2'] ==\"Action\", 'Action'] = 1\n",
    "    df_clean_sort.loc[df_clean_sort['Category3'] ==\"Action\", 'Action'] = 1\n",
    "    df_clean_sort.loc[df_clean_sort['Category4'] ==\"Action\", 'Action'] = 1\n",
    "    df_clean_sort.loc[df_clean_sort['Category1'] ==\"Horror\", 'Horror'] = 1\n",
    "    df_clean_sort.loc[df_clean_sort['Category2'] ==\"Horror\", 'Horror'] = 1\n",
    "    df_clean_sort.loc[df_clean_sort['Category3'] ==\"Horror\", 'Horror'] = 1\n",
    "    df_clean_sort.loc[df_clean_sort['Category4'] ==\"Horror\", 'Horror'] = 1\n",
    "    df_clean_sort.loc[df_clean_sort['Category1'] ==\"War\", 'War'] = 1\n",
    "    df_clean_sort.loc[df_clean_sort['Category2'] ==\"War\", 'War'] = 1\n",
    "    df_clean_sort.loc[df_clean_sort['Category3'] ==\"War\", 'War'] = 1\n",
    "    df_clean_sort.loc[df_clean_sort['Category4'] ==\"War\", 'War'] = 1\n",
    "    df_clean_sort.loc[df_clean_sort['Category1'] ==\"Crime\", 'Crime'] = 1\n",
    "    df_clean_sort.loc[df_clean_sort['Category2'] ==\"Crime\", 'Crime'] = 1\n",
    "    df_clean_sort.loc[df_clean_sort['Category3'] ==\"Crime\", 'Crime'] = 1\n",
    "    df_clean_sort.loc[df_clean_sort['Category4'] ==\"Crime\", 'Crime'] = 1\n",
    "    df_clean_sort.loc[df_clean_sort['Category1'] ==\"Thriller\", 'Thriller'] = 1\n",
    "    df_clean_sort.loc[df_clean_sort['Category2'] ==\"Thriller\", 'Thriller'] = 1\n",
    "    df_clean_sort.loc[df_clean_sort['Category3'] ==\"Thriller\", 'Thriller'] = 1\n",
    "    df_clean_sort.loc[df_clean_sort['Category4'] ==\"Thriller\", 'Thriller'] = 1\n",
    "    df_clean_sort.loc[df_clean_sort['Category1'] ==\"Sci-Fi\", 'Sci-Fi'] = 1\n",
    "    df_clean_sort.loc[df_clean_sort['Category2'] ==\"Sci-Fi\", 'Sci-Fi'] = 1\n",
    "    df_clean_sort.loc[df_clean_sort['Category3'] ==\"Sci-Fi\", 'Sci-Fi'] = 1\n",
    "    df_clean_sort.loc[df_clean_sort['Category4'] ==\"Sci-Fi\", 'Sci-Fi'] = 1\n",
    "    df_clean_sort.loc[df_clean_sort['Category1'] ==\"Romance\", 'Romance'] = 1\n",
    "    df_clean_sort.loc[df_clean_sort['Category2'] ==\"Romance\", 'Romance'] = 1\n",
    "    df_clean_sort.loc[df_clean_sort['Category3'] ==\"Romance\", 'Romance'] = 1\n",
    "    df_clean_sort.loc[df_clean_sort['Category4'] ==\"Romance\", 'Romance'] = 1\n",
    "    df_clean_sort.loc[df_clean_sort['Category1'] ==\"Animation\", 'Animation'] = 1\n",
    "    df_clean_sort.loc[df_clean_sort['Category2'] ==\"Animation\", 'Animation'] = 1\n",
    "    df_clean_sort.loc[df_clean_sort['Category3'] ==\"Animation\", 'Animation'] = 1\n",
    "    df_clean_sort.loc[df_clean_sort['Category4'] ==\"Animation\", 'Animation'] = 1\n",
    "    df_clean_sort.loc[df_clean_sort['Category1'] ==\"Children's\", \"Children's\"] = 1\n",
    "    df_clean_sort.loc[df_clean_sort['Category2'] ==\"Children's\", \"Children's\"] = 1\n",
    "    df_clean_sort.loc[df_clean_sort['Category3'] ==\"Children's\", \"Children's\"] = 1\n",
    "    df_clean_sort.loc[df_clean_sort['Category4'] ==\"Children's\", \"Children's\"] = 1\n",
    "    df_clean_sort.loc[df_clean_sort['Category1'] ==\"Documentary\", 'Documentary'] = 1\n",
    "    df_clean_sort.loc[df_clean_sort['Category2'] ==\"Documentary\", 'Documentary'] = 1\n",
    "    df_clean_sort.loc[df_clean_sort['Category3'] ==\"Documentary\", 'Documentary'] = 1\n",
    "    df_clean_sort.loc[df_clean_sort['Category4'] ==\"Documentary\", 'Documentary'] = 1\n",
    "    df_clean_sort.loc[df_clean_sort['Category1'] ==\"Western\", 'Western'] = 1\n",
    "    df_clean_sort.loc[df_clean_sort['Category2'] ==\"Western\", 'Western'] = 1\n",
    "    df_clean_sort.loc[df_clean_sort['Category3'] ==\"Western\", 'Western'] = 1\n",
    "    df_clean_sort.loc[df_clean_sort['Category4'] ==\"Western\", 'Western'] = 1\n",
    "    df_clean_sort.loc[df_clean_sort['Category1'] ==\"Musical\", 'Musical'] = 1\n",
    "    df_clean_sort.loc[df_clean_sort['Category2'] ==\"Musical\", 'Musical'] = 1\n",
    "    df_clean_sort.loc[df_clean_sort['Category3'] ==\"Musical\", 'Musical'] = 1\n",
    "    df_clean_sort.loc[df_clean_sort['Category4'] ==\"Musical\", 'Musical'] = 1\n",
    "    df_clean_sort.loc[df_clean_sort['Category1'] ==\"Film-Noir\", 'Film-Noir'] = 1\n",
    "    df_clean_sort.loc[df_clean_sort['Category2'] ==\"Film-Noir\", 'Film-Noir'] = 1\n",
    "    df_clean_sort.loc[df_clean_sort['Category3'] ==\"Film-Noir\", 'Film-Noir'] = 1\n",
    "    df_clean_sort.loc[df_clean_sort['Category4'] ==\"Film-Noir\", 'Film-Noir'] = 1\n",
    "    df_clean_sort.loc[df_clean_sort['Category1'] ==\"Fantasy\", 'Fantasy'] = 1\n",
    "    df_clean_sort.loc[df_clean_sort['Category2'] ==\"Fantasy\", 'Fantasy'] = 1\n",
    "    df_clean_sort.loc[df_clean_sort['Category3'] ==\"Fantasy\", 'Fantasy'] = 1\n",
    "    df_clean_sort.loc[df_clean_sort['Category4'] ==\"Fantasy\", 'Fantasy'] = 1\n",
    "    df_clean_sort.loc[df_clean_sort['Category1'] ==\"Mistery\", 'Mistery'] = 1\n",
    "    df_clean_sort.loc[df_clean_sort['Category2'] ==\"Mistery\", 'Mistery'] = 1\n",
    "    df_clean_sort.loc[df_clean_sort['Category3'] ==\"Mistery\", 'Mistery'] = 1\n",
    "    df_clean_sort.loc[df_clean_sort['Category4'] ==\"Mistery\", 'Mistery'] = 1\n",
    "    \n",
    "    \n",
    "\n",
    "    \n",
    "#print(df_clean_sort['Comedy'].value_counts())  cuenta el total de trues en la columna comedia. Funciona\n",
    "#print(df_clean_sort.groupby('Year')['Sci-Fi'].value_counts()) cuenta el total de trues comedy por cada año. Funciona\n",
    "\n",
    "#print(df_clean_sort['Comedy'].value_counts()[True])  cuenta el total de trues en la columna comedia\n",
    "#print(df_clean_sort.groupby('Year')['Comedy'].sum())   cuenta el total de trues comedy por cada año"
   ]
  },
  {
   "cell_type": "code",
   "execution_count": 112,
   "metadata": {
    "collapsed": false,
    "jupyter": {
     "outputs_hidden": false
    },
    "scrolled": true
   },
   "outputs": [
    {
     "name": "stdout",
     "output_type": "stream",
     "text": [
      "Year\n",
      "1919      2.0\n",
      "1920      0.0\n",
      "1922      0.0\n",
      "1923      0.0\n",
      "1925      1.0\n",
      "1926      1.0\n",
      "1927      2.0\n",
      "1928      0.0\n",
      "1929      0.0\n",
      "1930      3.0\n",
      "1931      2.0\n",
      "1932      4.0\n",
      "1933      5.0\n",
      "1934      1.0\n",
      "1935      1.0\n",
      "1936      0.0\n",
      "1937      7.0\n",
      "1938      3.0\n",
      "1939      6.0\n",
      "1940      8.0\n",
      "1941      6.0\n",
      "1942      6.0\n",
      "1943      6.0\n",
      "1944      8.0\n",
      "1945      5.0\n",
      "1946      7.0\n",
      "1947      4.0\n",
      "1948      5.0\n",
      "1949      4.0\n",
      "1950      4.0\n",
      "1951      7.0\n",
      "1952      5.0\n",
      "1953      9.0\n",
      "1954     10.0\n",
      "1955      6.0\n",
      "1956      7.0\n",
      "1957      9.0\n",
      "1958     14.0\n",
      "1959     11.0\n",
      "1960      9.0\n",
      "1961     11.0\n",
      "1962     12.0\n",
      "1963     11.0\n",
      "1964      5.0\n",
      "1965      7.0\n",
      "1966      5.0\n",
      "1967     12.0\n",
      "1968     11.0\n",
      "1969      7.0\n",
      "1970      9.0\n",
      "1971     11.0\n",
      "1972      8.0\n",
      "1973     14.0\n",
      "1974     12.0\n",
      "1975     11.0\n",
      "1976     10.0\n",
      "1977     14.0\n",
      "1978     14.0\n",
      "1979     15.0\n",
      "1980     16.0\n",
      "1981     21.0\n",
      "1982     22.0\n",
      "1983     14.0\n",
      "1984     33.0\n",
      "1985     37.0\n",
      "1986     56.0\n",
      "1987     39.0\n",
      "1988     33.0\n",
      "1989     30.0\n",
      "1990     43.0\n",
      "1991     33.0\n",
      "1992     55.0\n",
      "1993     80.0\n",
      "1994    126.0\n",
      "1995    150.0\n",
      "1996    147.0\n",
      "1997    160.0\n",
      "1998    170.0\n",
      "1999    119.0\n",
      "2000     82.0\n",
      "Name: Multicategory, dtype: float64\n",
      "Year\n",
      "1919      1.0\n",
      "1920      2.0\n",
      "1922      2.0\n",
      "1923      3.0\n",
      "1925      5.0\n",
      "1926      7.0\n",
      "1927      4.0\n",
      "1928      3.0\n",
      "1929      3.0\n",
      "1930      4.0\n",
      "1931      5.0\n",
      "1932      3.0\n",
      "1933      2.0\n",
      "1934      6.0\n",
      "1935      5.0\n",
      "1936      8.0\n",
      "1937      4.0\n",
      "1938      3.0\n",
      "1939      5.0\n",
      "1940     11.0\n",
      "1941      5.0\n",
      "1942      7.0\n",
      "1943      4.0\n",
      "1944      5.0\n",
      "1945      6.0\n",
      "1946      6.0\n",
      "1947     10.0\n",
      "1948      7.0\n",
      "1949      6.0\n",
      "1950     10.0\n",
      "1951      5.0\n",
      "1952      6.0\n",
      "1953      5.0\n",
      "1954      5.0\n",
      "1955     13.0\n",
      "1956     11.0\n",
      "1957     11.0\n",
      "1958      8.0\n",
      "1959     11.0\n",
      "1960      6.0\n",
      "1961      8.0\n",
      "1962      8.0\n",
      "1963     14.0\n",
      "1964     11.0\n",
      "1965     13.0\n",
      "1966      7.0\n",
      "1967     12.0\n",
      "1968     10.0\n",
      "1969     11.0\n",
      "1970      7.0\n",
      "1971     15.0\n",
      "1972     14.0\n",
      "1973     14.0\n",
      "1974     15.0\n",
      "1975     11.0\n",
      "1976     10.0\n",
      "1977      8.0\n",
      "1978     16.0\n",
      "1979     17.0\n",
      "1980     25.0\n",
      "1981     22.0\n",
      "1982     28.0\n",
      "1983     21.0\n",
      "1984     26.0\n",
      "1985     28.0\n",
      "1986     48.0\n",
      "1987     32.0\n",
      "1988     36.0\n",
      "1989     30.0\n",
      "1990     34.0\n",
      "1991     27.0\n",
      "1992     47.0\n",
      "1993     85.0\n",
      "1994    131.0\n",
      "1995    192.0\n",
      "1996    197.0\n",
      "1997    154.0\n",
      "1998    165.0\n",
      "1999    162.0\n",
      "2000     78.0\n",
      "Name: NoMulticategory, dtype: float64\n"
     ]
    }
   ],
   "source": [
    "#df_clean_sort.iloc[:, 9:27].plot.bar()\n",
    "#plt.show()\n",
    "df_final = df_clean_sort.fillna(0)\n",
    "#print(df_final.groupby('Year')['Category2']>0)\n",
    "df_final.loc[df_final['Category2'] !=0, 'Multicategory'] = 1\n",
    "df_final.loc[df_final['Category2'] ==0, 'NoMulticategory'] = 1\n",
    "df_final2 = df_final.fillna(0)\n",
    "print(df_final2.groupby('Year')['Multicategory'].sum())\n",
    "print(df_final2.groupby('Year')['NoMulticategory'].sum())"
   ]
  },
  {
   "cell_type": "code",
   "execution_count": 33,
   "metadata": {
    "collapsed": false,
    "jupyter": {
     "outputs_hidden": false
    }
   },
   "outputs": [
    {
     "ename": "AttributeError",
     "evalue": "module 'seaborn' has no attribute 'histplot'",
     "output_type": "error",
     "traceback": [
      "\u001b[0;31m---------------------------------------------------------------------------\u001b[0m",
      "\u001b[0;31mAttributeError\u001b[0m                            Traceback (most recent call last)",
      "\u001b[0;32m<ipython-input-33-a7f8b33c7767>\u001b[0m in \u001b[0;36m<module>\u001b[0;34m()\u001b[0m\n\u001b[0;32m----> 1\u001b[0;31m \u001b[0msns\u001b[0m\u001b[0;34m.\u001b[0m\u001b[0mhistplot\u001b[0m\u001b[0;34m(\u001b[0m\u001b[0mdata\u001b[0m \u001b[0;34m=\u001b[0m \u001b[0mdf_clean_sort\u001b[0m\u001b[0;34m,\u001b[0m \u001b[0mx\u001b[0m \u001b[0;34m=\u001b[0m \u001b[0;34m\"Year\"\u001b[0m\u001b[0;34m,\u001b[0m \u001b[0mkde\u001b[0m \u001b[0;34m=\u001b[0m \u001b[0;32mTrue\u001b[0m\u001b[0;34m,\u001b[0m \u001b[0mhue\u001b[0m \u001b[0;34m=\u001b[0m \u001b[0;34m\"Categoria\"\u001b[0m\u001b[0;34m)\u001b[0m\u001b[0;34m\u001b[0m\u001b[0m\n\u001b[0m",
      "\u001b[0;31mAttributeError\u001b[0m: module 'seaborn' has no attribute 'histplot'"
     ]
    }
   ],
   "source": [
    "sns.histplot(data = df_clean_sort, x = \"Year\", hue = \"Categoria\")\n",
    "#aixo hauria de funcionar"
   ]
  },
  {
   "cell_type": "markdown",
   "metadata": {},
   "source": [
    "<span style=color:blue><font size=4><b><u>Una Variable</u></b>: 1 Numérica = 'Frequency of years'</font></span>"
   ]
  },
  {
   "cell_type": "markdown",
   "metadata": {},
   "source": [
    "En aquest histograma veiem que el nombre de pelicules va augmentant conforme avança el segle XX i que la majoria de les pelicules es concentren entre els anys 80 y el 2000. He filtrat els anys que només tenien un resultat doncs coincidien amb anys erronis com el 1600 o el 3000."
   ]
  },
  {
   "cell_type": "code",
   "execution_count": 133,
   "metadata": {
    "collapsed": false,
    "jupyter": {
     "outputs_hidden": false
    }
   },
   "outputs": [
    {
     "name": "stderr",
     "output_type": "stream",
     "text": [
      "/home/letitflui/anaconda3/lib/python3.9/site-packages/seaborn/distributions.py:2619: FutureWarning: `distplot` is a deprecated function and will be removed in a future version. Please adapt your code to use either `displot` (a figure-level function with similar flexibility) or `histplot` (an axes-level function for histograms).\n",
      "  warnings.warn(msg, FutureWarning)\n"
     ]
    },
    {
     "data": {
      "image/png": "[encoded data removed]",
      "text/plain": [
       "<Figure size 1152x864 with 1 Axes>"
      ]
     },
     "metadata": {
      "needs_background": "light"
     },
     "output_type": "display_data"
    }
   ],
   "source": [
    "fig_dims = (16, 12)\n",
    "fig, ax = plt.subplots(figsize=fig_dims)\n",
    "sns.distplot(df_clean_sort['Year'] , ax=ax, hist=True, kde=True )\n",
    "plt.show()"
   ]
  },
  {
   "cell_type": "markdown",
   "metadata": {},
   "source": [
    "<span style=color:blue><font size=4><b><u>Dos Variables</u></b>: 1 Categórica = 'Year', 1 Numérica = 'percentage of movies'</font></span>"
   ]
  },
  {
   "cell_type": "code",
   "execution_count": 132,
   "metadata": {
    "collapsed": false,
    "jupyter": {
     "outputs_hidden": false
    }
   },
   "outputs": [
    {
     "name": "stderr",
     "output_type": "stream",
     "text": [
      "/home/letitflui/anaconda3/lib/python3.9/site-packages/seaborn/_decorators.py:36: FutureWarning: Pass the following variables as keyword args: x, y. From version 0.12, the only valid positional argument will be `data`, and passing other arguments without an explicit keyword will result in an error or misinterpretation.\n",
      "  warnings.warn(\n"
     ]
    },
    {
     "data": {
      "text/plain": [
       "[Text(0.5, 0, 'Year'), Text(0, 0.5, 'Percentage of Movies')]"
      ]
     },
     "execution_count": 132,
     "metadata": {},
     "output_type": "execute_result"
    },
    {
     "data": {
      "image/png": "[encoded data removed]",
      "text/plain": [
       "<Figure size 1152x864 with 1 Axes>"
      ]
     },
     "metadata": {
      "needs_background": "light"
     },
     "output_type": "display_data"
    }
   ],
   "source": [
    "x_values = any\n",
    "y_values = percentatge\n",
    "fig_dims = (16, 12)\n",
    "fig, ax = plt.subplots(figsize=fig_dims)\n",
    "sns.barplot(x_values, y_values, ax=ax, data=df)\n",
    "ax.set(xlabel=\"Year\", ylabel=\"Percentage of Movies\")"
   ]
  },
  {
   "cell_type": "markdown",
   "metadata": {},
   "source": [
    "<span style=color:blue><font size=4><b><u>Tres Variables</u></b> : 2 Categóricas = ('Category', 'Year'), 1 Numérica = 'percentage of movies'</font></span>"
   ]
  },
  {
   "cell_type": "code",
   "execution_count": 131,
   "metadata": {
    "tags": []
   },
   "outputs": [
    {
     "data": {
      "image/png": "[encoded data removed]",
      "text/plain": [
       "<Figure size 1152x864 with 1 Axes>"
      ]
     },
     "metadata": {
      "needs_background": "light"
     },
     "output_type": "display_data"
    }
   ],
   "source": [
    "x_values = any\n",
    "y_values1 = df_clean_sort.groupby('Year')['Action'].sum()\n",
    "y_values2 = df_clean_sort.groupby('Year')['Adventure'].sum()\n",
    "y_values3 = df_clean_sort.groupby('Year')['Animation'].sum()\n",
    "y_values4 = df_clean_sort.groupby('Year')['Comedy'].sum()\n",
    "y_values5 = df_clean_sort.groupby('Year')[\"Children's\"].sum()\n",
    "y_values6 = df_clean_sort.groupby('Year')['Crime'].sum()\n",
    "y_values7 = df_clean_sort.groupby('Year')['Documentary'].sum()\n",
    "y_values8 = df_clean_sort.groupby('Year')['Drama'].sum()\n",
    "y_values9 = df_clean_sort.groupby('Year')['Fantasy'].sum()\n",
    "y_values10 = df_clean_sort.groupby('Year')['Film-Noir'].sum()\n",
    "y_values11 = df_clean_sort.groupby('Year')['Horror'].sum()\n",
    "y_values12 = df_clean_sort.groupby('Year')['Mistery'].sum()\n",
    "y_values13 = df_clean_sort.groupby('Year')['Musical'].sum()\n",
    "y_values14 = df_clean_sort.groupby('Year')['Romance'].sum()\n",
    "y_values15 = df_clean_sort.groupby('Year')['Sci-Fi'].sum()\n",
    "y_values16 = df_clean_sort.groupby('Year')['Thriller'].sum()\n",
    "y_values17 = df_clean_sort.groupby('Year')['War'].sum()\n",
    "y_values18 = df_clean_sort.groupby('Year')['Western'].sum()\n",
    "\n",
    "\n",
    "fig_dims = (16, 12)\n",
    "fig, ax = plt.subplots(figsize=fig_dims)\n",
    "#ordenar de menor numero de resultados a mayor\n",
    "ax = sns.barplot(x=x_values, y=y_values8, color='#F48C06', label ='Drama')\n",
    "ax = sns.barplot(x=x_values, y=y_values4, color='#9D0208', label ='Comedy')\n",
    "ax = sns.barplot(x=x_values, y=y_values1, color='#03071E', label ='Action')\n",
    "ax = sns.barplot(x=x_values, y=y_values16, color='#F7A834', label ='Thriller')\n",
    "ax = sns.barplot(x=x_values, y=y_values14, color='#F37440', label ='Romance')\n",
    "ax = sns.barplot(x=x_values, y=y_values11, color='#CF1949', label ='Horror')\n",
    "ax = sns.barplot(x=x_values, y=y_values2, color='#370617', label ='Adventure')\n",
    "ax = sns.barplot(x=x_values, y=y_values15, color='#F58E3A', label ='Sci-Fi')\n",
    "ax = sns.barplot(x=x_values, y=y_values5, color='#D00000', label =\"Children's\")\n",
    "ax = sns.barplot(x=x_values, y=y_values6, color='#DC2F02', label ='Crime')\n",
    "ax = sns.barplot(x=x_values, y=y_values17, color='#F9C22E', label ='War')\n",
    "ax = sns.barplot(x=x_values, y=y_values7, color='#E85D04', label ='Documentary')\n",
    "ax = sns.barplot(x=x_values, y=y_values13, color='#F15946', label ='Musical')\n",
    "ax = sns.barplot(x=x_values, y=y_values3, color='#6A040F', label ='Animation')\n",
    "ax = sns.barplot(x=x_values, y=y_values12, color='#E93A4B', label ='Mistery')\n",
    "ax = sns.barplot(x=x_values, y=y_values18, color='#E70E02', label ='Western')\n",
    "ax = sns.barplot(x=x_values, y=y_values9, color='#FAA307', label ='Fantasy')\n",
    "ax = sns.barplot(x=x_values, y=y_values10, color='#FFBA08', label ='Film-Noir')\n",
    "\n",
    "ax.legend(title='Category')\n",
    "ax.set(xlabel=\"Year\", ylabel=\"Number of Movies\")\n",
    "plt.show()"
   ]
  },
  {
   "cell_type": "markdown",
   "metadata": {},
   "source": [
    "<span style=color:blue><font size=4><b><u>Cuatro Variables</u></b> : 3 Categoricas = ('Year', 'Category', 'Category number'), 1 Numérica = 'Number of movies'</font></span>"
   ]
  },
  {
   "cell_type": "code",
   "execution_count": 169,
   "metadata": {},
   "outputs": [
    {
     "name": "stdout",
     "output_type": "stream",
     "text": [
      "1998    45\n",
      "1997    34\n",
      "1995    34\n",
      "1994    34\n",
      "1996    32\n",
      "1999    25\n",
      "2000    19\n",
      "1993    14\n",
      "1992    12\n",
      "1990     9\n",
      "1987     8\n",
      "1986     8\n",
      "1991     7\n",
      "1989     6\n",
      "1988     6\n",
      "1982     5\n",
      "1985     5\n",
      "1983     5\n",
      "1973     5\n",
      "1984     4\n",
      "1958     4\n",
      "1967     4\n",
      "1954     4\n",
      "1980     4\n",
      "1981     4\n",
      "1974     3\n",
      "1976     3\n",
      "1979     3\n",
      "1961     3\n",
      "1939     2\n",
      "1942     2\n",
      "1948     2\n",
      "1949     2\n",
      "1952     2\n",
      "1957     2\n",
      "1919     2\n",
      "1960     2\n",
      "1963     1\n",
      "1970     1\n",
      "1930     1\n",
      "1931     1\n",
      "1968     1\n",
      "1969     1\n",
      "1944     1\n",
      "1946     1\n",
      "1972     1\n",
      "1950     1\n",
      "1926     1\n",
      "1953     1\n",
      "1975     1\n",
      "1955     1\n",
      "1978     1\n",
      "1962     1\n",
      "Name: Year, dtype: int64\n"
     ]
    }
   ],
   "source": [
    "\n",
    "\n",
    "#print(df_final['Category2'])\n",
    "print(df_final['Year'][df_final['Category2']=='Drama'].value_counts())\n",
    "#print(df_clean_sort.groupby('Year')[df_final['Category2']=='Comedy'].value_counts())"
   ]
  },
  {
   "cell_type": "code",
   "execution_count": null,
   "metadata": {},
   "outputs": [],
   "source": []
  }
 ],
 "metadata": {
  "anaconda-cloud": {},
  "kernelspec": {
   "display_name": "Python 3 (ipykernel)",
   "language": "python",
   "name": "python3"
  },
  "language_info": {
   "codemirror_mode": {
    "name": "ipython",
    "version": 3
   },
   "file_extension": ".py",
   "mimetype": "text/x-python",
   "name": "python",
   "nbconvert_exporter": "python",
   "pygments_lexer": "ipython3",
   "version": "3.9.12"
  }
 },
 "nbformat": 4,
 "nbformat_minor": 4
}
